{
 "cells": [
  {
   "cell_type": "markdown",
   "id": "ugCe_WbQ_oc0",
   "metadata": {
    "id": "ugCe_WbQ_oc0"
   },
   "source": [
    "https://github.com/RicardDurall/Benchmarking-Strategies-for-Asset-Allocation\n",
    "\n",
    "Asset Allocation: From Markowitz to Deep Reinforcement Learning\n"
   ]
  },
  {
   "cell_type": "code",
   "execution_count": null,
   "id": "7y77_vtVITkc",
   "metadata": {
    "colab": {
     "base_uri": "https://localhost:8080/"
    },
    "id": "7y77_vtVITkc",
    "outputId": "4d0c4188-f5bf-4b55-e66c-5b04596f271f"
   },
   "outputs": [],
   "source": [
    "! pip install --upgrade pandas-datareader\n",
    "! pip install stable_baselines3"
   ]
  },
  {
   "cell_type": "markdown",
   "id": "kay64d5OIU5U",
   "metadata": {
    "id": "kay64d5OIU5U"
   },
   "source": [
    "Restart after this\n",
    "\n"
   ]
  },
  {
   "cell_type": "markdown",
   "id": "a3c61b42-a4e1-4699-9d33-d990f66e0598",
   "metadata": {
    "id": "a3c61b42-a4e1-4699-9d33-d990f66e0598"
   },
   "source": [
    "# Preprocessing"
   ]
  },
  {
   "cell_type": "code",
   "execution_count": 9,
   "id": "67be38ce-5e86-4f4d-a603-3eaa027e82f4",
   "metadata": {
    "id": "67be38ce-5e86-4f4d-a603-3eaa027e82f4"
   },
   "outputs": [],
   "source": [
    "import pandas as pd\n",
    "import matplotlib.pyplot as plt\n",
    "from pandas_datareader import data as pdr"
   ]
  },
  {
   "cell_type": "markdown",
   "id": "d83b717d-a3ed-41bf-99f8-59972abae11c",
   "metadata": {
    "id": "d83b717d-a3ed-41bf-99f8-59972abae11c"
   },
   "source": [
    "### Select the tickers and timeframe"
   ]
  },
  {
   "cell_type": "code",
   "execution_count": null,
   "id": "DtFWBhVZ8owi",
   "metadata": {
    "colab": {
     "base_uri": "https://localhost:8080/"
    },
    "id": "DtFWBhVZ8owi",
    "outputId": "c989190d-8864-4f5f-f472-8abe80ce8e9d"
   },
   "outputs": [],
   "source": [
    "! git clone https://github.com/RicardDurall/Benchmarking-Strategies-for-Asset-Allocation"
   ]
  },
  {
   "cell_type": "code",
   "execution_count": null,
   "id": "r3Rs_whY-Riw",
   "metadata": {
    "id": "r3Rs_whY-Riw"
   },
   "outputs": [],
   "source": [
    "! cp /content/Benchmarking-Strategies-for-Asset-Allocation/deepRL.py /content\n"
   ]
  },
  {
   "cell_type": "code",
   "execution_count": 10,
   "id": "l7o0PGMIdTbg",
   "metadata": {
    "id": "l7o0PGMIdTbg"
   },
   "outputs": [],
   "source": [
    "# tickers = [\"URTH\", \"BNDX\"]\n",
    "# tickers = ['AAPL', \"GE\",'JPM', 'MSFT', 'VOD', 'NKE','NVDA',\"MMM\"]\n",
    "tickers = ['ABB.ST', 'ASSA-B.ST', 'AZN', 'ATCO-A.ST', 'ATCO-B.ST', 'ALIV-SDB.ST', 'BOL.ST',\n",
    "           'ELUX-B.ST', 'ERIC-B.ST', 'GETI-B.ST', 'HM-B.ST', 'HEXA-B.ST', 'INVE-B.ST', 'KINV-B.ST',\n",
    "           'NDA-SE.ST', 'SAND', 'SECU-B.ST', 'SEB-A.ST', 'SKA-B.ST', 'SKF-B.ST', 'SSAB-A.ST',\n",
    "           'SCA-B.ST', 'SHB-A.ST', 'SWED-A.ST', 'SWMA.ST', 'TEL2-B.ST', 'TELIA.ST', 'VOLV-B.ST'   \n",
    "           ]"
   ]
  },
  {
   "cell_type": "code",
   "execution_count": null,
   "id": "205577e3",
   "metadata": {},
   "outputs": [],
   "source": []
  },
  {
   "cell_type": "code",
   "execution_count": null,
   "id": "e6c1151e",
   "metadata": {},
   "outputs": [],
   "source": []
  },
  {
   "cell_type": "code",
   "execution_count": null,
   "id": "83b55768",
   "metadata": {},
   "outputs": [],
   "source": []
  },
  {
   "cell_type": "markdown",
   "id": "99162b37",
   "metadata": {},
   "source": []
  },
  {
   "cell_type": "markdown",
   "id": "27dfd7be",
   "metadata": {},
   "source": [
    "# start_date = '2003-01-01'\n",
    "start_date = '2019-01-01'\n",
    "end_date = \"2022-11-20\"\n",
    "# this is bull market\n",
    "df = pdr.get_data_yahoo([tickers][0], start=start_date, end=end_date)"
   ]
  },
  {
   "cell_type": "code",
   "execution_count": null,
   "id": "73DXA5ISgTa8",
   "metadata": {
    "colab": {
     "base_uri": "https://localhost:8080/",
     "height": 568
    },
    "id": "73DXA5ISgTa8",
    "outputId": "4a634c27-dbf3-4626-84d3-d2b1cc52e862"
   },
   "outputs": [],
   "source": [
    "df"
   ]
  },
  {
   "cell_type": "code",
   "execution_count": null,
   "id": "S0XgSmBZdUaJ",
   "metadata": {
    "id": "S0XgSmBZdUaJ"
   },
   "outputs": [],
   "source": [
    "# collective_df =  df['AAPL'], df['GE'], df['JPM'], df['MSFT'], df['VOD'], df['NKE'], df['NVDA'], df['MMM']\n",
    "# collective_df = df['ABB'], df['ASSA-B.ST'], df['AZN'], df['ATCO-A.ST'], df['ATCO-B.ST'], df['ALIV-SDB.ST'], df['BOL.ST'], df['ELUX-B.ST'], df['ERIC-B.ST'], df['GETI-B.ST'], df['HM-B.ST'], df['HEXA-B.ST'], df['INVE-B.ST'], df['KINV-B.ST'], df['NDA-SE.ST'], df['SAND'], df['SECU-B.ST'], df['SEB-A.ST'], df['SKA-B.ST'], df['SKF-B.ST'], df['SSAB-A.ST'], df['SCA-B.ST'], df['SHB-A.ST'], df['SWED-A.ST'], df['SWMA.ST'], df['TEL2-B.ST'], df['TELIA.ST'], df['VOLV-B.ST'] \n"
   ]
  },
  {
   "cell_type": "code",
   "execution_count": null,
   "id": "1fed9c64-651c-4bf3-a6cd-fba90850a842",
   "metadata": {
    "colab": {
     "base_uri": "https://localhost:8080/",
     "height": 289
    },
    "id": "1fed9c64-651c-4bf3-a6cd-fba90850a842",
    "outputId": "9bac5eb9-8863-4fa3-c865-ee0760625167"
   },
   "outputs": [],
   "source": [
    "# bear market \n",
    "##  1st of January 2003 to the 1st of January 2010\n",
    "\n",
    "# bull market\n",
    "## 2010-01-01 to end=\"2017-01-01\"\n",
    "data = df.copy()\n",
    "# we copy the neighbour values to NaN entries\n",
    "data['Adj Close'] = data['Adj Close'].ffill()\n",
    "df = df.bfill(axis=1)\n",
    "data['Adj Close'] = data['Adj Close'].bfill()\n",
    "df = df.bfill(axis=1)\n",
    "\n",
    "data = data['Adj Close']\n",
    "data.head(2)"
   ]
  },
  {
   "cell_type": "code",
   "execution_count": null,
   "id": "gRA8wwZBrRsz",
   "metadata": {
    "colab": {
     "base_uri": "https://localhost:8080/",
     "height": 710
    },
    "id": "gRA8wwZBrRsz",
    "outputId": "88c099ef-5030-455c-fb1a-429b19b86e48"
   },
   "outputs": [],
   "source": [
    "data"
   ]
  },
  {
   "cell_type": "markdown",
   "id": "4cdde1f6-507f-40f7-beb3-72a09e245f77",
   "metadata": {
    "id": "4cdde1f6-507f-40f7-beb3-72a09e245f77"
   },
   "source": [
    "### We check that tehre are no NAN values"
   ]
  },
  {
   "cell_type": "code",
   "execution_count": null,
   "id": "c6b2fd8d-de4e-44f5-89f1-6077787634a9",
   "metadata": {
    "colab": {
     "base_uri": "https://localhost:8080/"
    },
    "id": "c6b2fd8d-de4e-44f5-89f1-6077787634a9",
    "outputId": "0a12e107-530d-4a88-8eb4-e49822f9405c"
   },
   "outputs": [],
   "source": [
    "data.isna().sum()"
   ]
  },
  {
   "cell_type": "markdown",
   "id": "0f5ca931-acc8-4a04-a191-2627b24fc94d",
   "metadata": {
    "id": "0f5ca931-acc8-4a04-a191-2627b24fc94d"
   },
   "source": [
    "### Check if all tickers have the same number of data points"
   ]
  },
  {
   "cell_type": "code",
   "execution_count": null,
   "id": "d88ea485-ab32-41a9-bb3a-bca454ffa7a9",
   "metadata": {
    "colab": {
     "base_uri": "https://localhost:8080/",
     "height": 206
    },
    "id": "d88ea485-ab32-41a9-bb3a-bca454ffa7a9",
    "outputId": "457e42c1-1348-4f65-e2c4-90a9cb49d220"
   },
   "outputs": [],
   "source": [
    "no_datasets = []\n",
    "for i in tickers:\n",
    "    no_data_points = len(data[i])\n",
    "    no_datasets.append((i,no_data_points))\n",
    "    data_points_df = pd.DataFrame(no_datasets)\n",
    "\n",
    "data_points_df.head()"
   ]
  },
  {
   "cell_type": "markdown",
   "id": "6e289868-9730-4a37-bb6a-9338a51e7ed1",
   "metadata": {
    "id": "6e289868-9730-4a37-bb6a-9338a51e7ed1"
   },
   "source": [
    "### Define the start-end dates for the training and testing data"
   ]
  },
  {
   "cell_type": "code",
   "execution_count": null,
   "id": "68467a28-b94f-4630-9eb3-b372ae0fabeb",
   "metadata": {
    "id": "68467a28-b94f-4630-9eb3-b372ae0fabeb"
   },
   "outputs": [],
   "source": [
    "train_pct = 0.8\n",
    "samples_train = int(train_pct*len(data))\n",
    "data_train = data[:samples_train]\n",
    "data_test = data[samples_train:]"
   ]
  },
  {
   "cell_type": "code",
   "execution_count": null,
   "id": "8364cd2d-cdc6-48fb-9b7e-1ed69bada617",
   "metadata": {
    "colab": {
     "base_uri": "https://localhost:8080/",
     "height": 240
    },
    "id": "8364cd2d-cdc6-48fb-9b7e-1ed69bada617",
    "outputId": "f6bbe59d-e38d-4b4e-be85-344d72991c91"
   },
   "outputs": [],
   "source": [
    "data_test.head(1)"
   ]
  },
  {
   "cell_type": "markdown",
   "id": "fe647c93-6210-4ab6-822a-f990d0244061",
   "metadata": {
    "id": "fe647c93-6210-4ab6-822a-f990d0244061"
   },
   "source": [
    "### Visualization"
   ]
  },
  {
   "cell_type": "code",
   "execution_count": null,
   "id": "zQbZPU4OdlER",
   "metadata": {
    "colab": {
     "base_uri": "https://localhost:8080/",
     "height": 710
    },
    "id": "zQbZPU4OdlER",
    "outputId": "471fc9bb-4bad-4724-ec51-a977c5e3cb53"
   },
   "outputs": [],
   "source": [
    "data"
   ]
  },
  {
   "cell_type": "code",
   "execution_count": null,
   "id": "1ab496e6-273a-4835-88b7-86e19c841377",
   "metadata": {
    "colab": {
     "base_uri": "https://localhost:8080/",
     "height": 459
    },
    "id": "1ab496e6-273a-4835-88b7-86e19c841377",
    "outputId": "a36d5f03-1eca-4473-be28-80e55e62d89f"
   },
   "outputs": [],
   "source": [
    "plt.rcParams[\"figure.figsize\"] = (10,6)\n",
    "for i in tickers:\n",
    "    plt.plot(data[i], label=i)\n",
    "\n",
    "# only one line may be specified; full height\n",
    "plt.axvline(pd.to_datetime(start_date), color='black', linestyle='--', lw=2)\n",
    "plt.legend()\n",
    "plt.margins(x=0)\n",
    "plt.ylabel(\"Closing Share Prise (USD)\")\n",
    "plt.xlabel(\"Time (Years)\")\n",
    "plt.savefig('data0.png',bbox_inches='tight')"
   ]
  },
  {
   "cell_type": "markdown",
   "id": "139a3d0f-bff1-4824-ad54-a598469abd03",
   "metadata": {
    "id": "139a3d0f-bff1-4824-ad54-a598469abd03"
   },
   "source": [
    "# -----------------------------------------------\n",
    "# ----------------------------------------------- "
   ]
  },
  {
   "cell_type": "markdown",
   "id": "8e58e706-bc59-4737-b6b8-c897e841c84c",
   "metadata": {
    "id": "8e58e706-bc59-4737-b6b8-c897e841c84c"
   },
   "source": [
    "# Evaluating models"
   ]
  },
  {
   "cell_type": "markdown",
   "id": "c4411112-dd70-4122-98ff-c272cd9d9d14",
   "metadata": {
    "id": "c4411112-dd70-4122-98ff-c272cd9d9d14"
   },
   "source": [
    "## Deep Reinfrocement Learning"
   ]
  },
  {
   "cell_type": "code",
   "execution_count": null,
   "id": "e5a4b714",
   "metadata": {},
   "outputs": [],
   "source": [
    "! copy \"Benchmarking-Strategies-for-Asset-Allocation\\deepRL.py\" \".\\\"\n"
   ]
  },
  {
   "cell_type": "code",
   "execution_count": null,
   "id": "97038830-ebde-4ef9-85b7-84053e937a48",
   "metadata": {
    "id": "97038830-ebde-4ef9-85b7-84053e937a48"
   },
   "outputs": [],
   "source": [
    "import numpy as np\n",
    "import random\n",
    "from deepRL import StockEnvTrade, train, DRL_prediction\n",
    "from stable_baselines3.common.vec_env import DummyVecEnv"
   ]
  },
  {
   "cell_type": "code",
   "execution_count": null,
   "id": "064e9c5d-12f9-4469-8b19-d0849673283f",
   "metadata": {
    "id": "064e9c5d-12f9-4469-8b19-d0849673283f"
   },
   "outputs": [],
   "source": [
    "rebalance_period = 1\n",
    "re_df = data.iloc[::rebalance_period, :]\n",
    "train_re_df = data_train.iloc[::rebalance_period, :]\n",
    "test_re_df = data_test.iloc[::rebalance_period, :]"
   ]
  },
  {
   "cell_type": "code",
   "execution_count": null,
   "id": "6c0f56e8-06a6-4904-9fe2-43dec1979249",
   "metadata": {
    "id": "6c0f56e8-06a6-4904-9fe2-43dec1979249"
   },
   "outputs": [],
   "source": [
    "timesteps = 25000\n",
    "runs = 10\n",
    "\n",
    "# timesteps  = 10000\n",
    "# runs = 1\n",
    "\n",
    "\n",
    "policy = \"MlpPolicy\"\n",
    "length = test_re_df.shape[0]\n",
    "stocks = test_re_df.shape[1]"
   ]
  },
  {
   "cell_type": "markdown",
   "id": "834ac196-1165-41df-84f2-bf369b684640",
   "metadata": {
    "id": "834ac196-1165-41df-84f2-bf369b684640"
   },
   "source": [
    "### PPO"
   ]
  },
  {
   "cell_type": "code",
   "execution_count": null,
   "id": "97dedc46-878d-4a20-8d9b-da8d0b4f9716",
   "metadata": {
    "colab": {
     "base_uri": "https://localhost:8080/"
    },
    "id": "97dedc46-878d-4a20-8d9b-da8d0b4f9716",
    "outputId": "fbbdaa27-4b9f-46b4-a269-87559b5b4661"
   },
   "outputs": [],
   "source": [
    "algo = \"PPO\"\n",
    "Cumulative_returns_daily_drl_ppo = np.zeros([runs, length])\n",
    "portfolio_weights_ppo = np.zeros([runs, length, stocks])\n",
    "\n",
    "i=0\n",
    "cont=0\n",
    "while (i<runs):\n",
    "    print(\"started \",i)\n",
    "    train_env = DummyVecEnv([lambda: StockEnvTrade(df = train_re_df)])\n",
    "    model = train(algo, policy, train_env, timesteps, seed=cont, save=False)\n",
    "\n",
    "    test_env = DummyVecEnv([lambda: StockEnvTrade(df = test_re_df)])\n",
    "    test_obs = test_env.reset()\n",
    "\n",
    "    portfolio_weights_ppo[i] = np.array(DRL_prediction(model, test_re_df, test_env, test_obs))\n",
    "    \n",
    "    check = np.sum(portfolio_weights_ppo[i])\n",
    "    cont = cont +1\n",
    "    print(\"working:\",check,\"   \",length)\n",
    "    if check != length:\n",
    "        continue\n",
    "\n",
    "    return_stocks = test_re_df.pct_change()\n",
    "    return_stocks_ppo = np.sum(return_stocks.multiply(portfolio_weights_ppo[i]),axis=1)\n",
    "    Cumulative_returns_daily_drl_ppo[i] = (1+return_stocks_ppo).cumprod()\n",
    "    i = i+1"
   ]
  },
  {
   "cell_type": "code",
   "execution_count": null,
   "id": "m_2is0ooLEII",
   "metadata": {
    "colab": {
     "base_uri": "https://localhost:8080/",
     "height": 905
    },
    "id": "m_2is0ooLEII",
    "outputId": "4cce6047-1931-4d10-c846-c085c4820b33"
   },
   "outputs": [],
   "source": [
    "fig, axs = plt.subplots(2, 2, figsize=(17,10),constrained_layout=True)\n",
    "\n",
    "ppo_mean = np.mean(np.array(Cumulative_returns_daily_drl_ppo),axis=0)\n",
    "ppo_std = np.std(np.array(Cumulative_returns_daily_drl_ppo),axis=0)\n",
    "\n",
    "axs[0,0].plot(test_re_df.index, ppo_mean, color='tab:blue', linewidth =2.0)\n",
    "axs[0,0].fill_between(test_re_df.index, ppo_mean - ppo_std, ppo_mean + ppo_std, alpha=0.2, color='tab:green')\n",
    "axs[0,0].margins(x=0)\n",
    "axs[0,0].margins(y=0)\n",
    "axs[0,0].axhline(1, color='black', linestyle='--', lw=2)\n",
    "axs[0,0].set_ylabel(\"Cumulative Returns\")\n",
    "axs[0,0].set_xlabel(\"Time (Years-Months)\")\n",
    "\n",
    "portfolio_weights_ppo_ = np.mean(np.array(portfolio_weights_ppo),axis=0)\n",
    "df = pd.DataFrame (portfolio_weights_ppo_, index = test_re_df.index, columns = tickers)\n",
    "collective_df = df['ABB'], df['ASSA-B.ST'], df['AZN'], df['ATCO-A.ST'], df['ATCO-B.ST'], df['ALIV-SDB.ST'], df['BOL.ST'], df['ELUX-B.ST'], df['ERIC-B.ST'], df['GETI-B.ST'], df['HM-B.ST'], df['HEXA-B.ST'], df['INVE-B.ST'], df['KINV-B.ST'], df['NDA-SE.ST'], df['SAND'], df['SECU-B.ST'], df['SEB-A.ST'], df['SKA-B.ST'], df['SKF-B.ST'], df['SSAB-A.ST'], df['SCA-B.ST'], df['SHB-A.ST'], df['SWED-A.ST'], df['SWMA.ST'], df['TEL2-B.ST'], df['TELIA.ST'], df['VOLV-B.ST'] \n",
    "axs[0,1].stackplot(test_re_df.index, collective_df, labels=tickers)\n",
    "axs[0,1].legend(loc='upper right')\n",
    "axs[0,1].margins(x=0)\n",
    "axs[0,1].margins(y=0)\n",
    "axs[0,1].set_ylabel(\"Weights (%)\")\n",
    "axs[0,1].set_xlabel(\"Time (Years-Months)\")\n",
    "\n",
    "portfolio_weights_ppo_ = portfolio_weights_ppo[np.argmax(Cumulative_returns_daily_drl_ppo[:,-1])]\n",
    "collective_df = df['ABB'], df['ASSA-B.ST'], df['AZN'], df['ATCO-A.ST'], df['ATCO-B.ST'], df['ALIV-SDB.ST'], df['BOL.ST'], df['ELUX-B.ST'], df['ERIC-B.ST'], df['GETI-B.ST'], df['HM-B.ST'], df['HEXA-B.ST'], df['INVE-B.ST'], df['KINV-B.ST'], df['NDA-SE.ST'], df['SAND'], df['SECU-B.ST'], df['SEB-A.ST'], df['SKA-B.ST'], df['SKF-B.ST'], df['SSAB-A.ST'], df['SCA-B.ST'], df['SHB-A.ST'], df['SWED-A.ST'], df['SWMA.ST'], df['TEL2-B.ST'], df['TELIA.ST'], df['VOLV-B.ST'] \n",
    "df = pd.DataFrame (portfolio_weights_ppo_, index = test_re_df.index, columns = tickers)\n",
    "axs[1,0].stackplot(test_re_df.index, collective_df, labels=tickers)\n",
    "axs[1,0].legend(loc='upper right')\n",
    "axs[1,0].margins(x=0)\n",
    "axs[1,0].margins(y=0)\n",
    "axs[1,0].set_ylabel(\"Weights (%)\")\n",
    "axs[1,0].set_xlabel(\"Time (Years-Months)\")\n",
    "\n",
    "portfolio_weights_ppo_ = portfolio_weights_ppo[np.argmin(Cumulative_returns_daily_drl_ppo[:,-1])]\n",
    "df = pd.DataFrame (portfolio_weights_ppo_, index = test_re_df.index, columns = tickers)\n",
    "collective_df = df['ABB'], df['ASSA-B.ST'], df['AZN'], df['ATCO-A.ST'], df['ATCO-B.ST'], df['ALIV-SDB.ST'], df['BOL.ST'], df['ELUX-B.ST'], df['ERIC-B.ST'], df['GETI-B.ST'], df['HM-B.ST'], df['HEXA-B.ST'], df['INVE-B.ST'], df['KINV-B.ST'], df['NDA-SE.ST'], df['SAND'], df['SECU-B.ST'], df['SEB-A.ST'], df['SKA-B.ST'], df['SKF-B.ST'], df['SSAB-A.ST'], df['SCA-B.ST'], df['SHB-A.ST'], df['SWED-A.ST'], df['SWMA.ST'], df['TEL2-B.ST'], df['TELIA.ST'], df['VOLV-B.ST'] \n",
    "axs[1,1].stackplot(test_re_df.index, collective_df, labels=tickers)\n",
    "axs[1,1].legend(loc='upper right')\n",
    "axs[1,1].margins(x=0)\n",
    "axs[1,1].margins(y=0)\n",
    "axs[1,1].set_ylabel(\"Weights (%)\")\n",
    "axs[1,1].set_xlabel(\"Time (Years-Months)\")\n",
    "# plt.show()\n",
    "plt.savefig(algo+'_'+str(timesteps)+'_'+str(rebalance_period)+'_drl0.png',bbox_inches='tight')"
   ]
  },
  {
   "cell_type": "markdown",
   "id": "75476b10-3025-417d-b9a4-69f494081e21",
   "metadata": {
    "id": "75476b10-3025-417d-b9a4-69f494081e21"
   },
   "source": [
    "### A2C"
   ]
  },
  {
   "cell_type": "code",
   "execution_count": null,
   "id": "d8f448ae-6530-406c-ba96-27de81a841af",
   "metadata": {
    "colab": {
     "base_uri": "https://localhost:8080/"
    },
    "id": "d8f448ae-6530-406c-ba96-27de81a841af",
    "outputId": "6425deab-a1fb-411d-becd-ce3b1e49de31"
   },
   "outputs": [],
   "source": [
    "algo = \"A2C\"\n",
    "Cumulative_returns_daily_drl_a2c = np.zeros([runs, length])\n",
    "portfolio_weights_a2c = np.zeros([runs, length, stocks])\n",
    "\n",
    "i=0\n",
    "cont=0\n",
    "while (i<runs):\n",
    "\n",
    "    train_env = DummyVecEnv([lambda: StockEnvTrade(df = train_re_df)])\n",
    "    model = train(algo, policy, train_env, timesteps, seed=cont, save=False)\n",
    "\n",
    "    test_env = DummyVecEnv([lambda: StockEnvTrade(df = test_re_df)])\n",
    "    test_obs = test_env.reset()\n",
    "\n",
    "    portfolio_weights_a2c[i] = np.array(DRL_prediction(model, test_re_df, test_env, test_obs))\n",
    "    \n",
    "    check = np.sum(portfolio_weights_a2c[i]) \n",
    "    cont = cont +1\n",
    "    if check != length:\n",
    "        continue\n",
    "\n",
    "    return_stocks = test_re_df.pct_change()\n",
    "    return_stocks_a2c = np.sum(return_stocks.multiply(portfolio_weights_a2c[i]),axis=1)\n",
    "    Cumulative_returns_daily_drl_a2c[i] = (1+return_stocks_a2c).cumprod()\n",
    "    i = i+1"
   ]
  },
  {
   "cell_type": "code",
   "execution_count": null,
   "id": "c43cfb76-1db6-472e-bab7-5c51ce825712",
   "metadata": {
    "id": "c43cfb76-1db6-472e-bab7-5c51ce825712"
   },
   "outputs": [],
   "source": [
    "fig, axs = plt.subplots(2, 2, figsize=(17,10),constrained_layout=True)\n",
    "\n",
    "a2c_mean = np.mean(np.array(Cumulative_returns_daily_drl_a2c),axis=0)\n",
    "a2c_std = np.std(np.array(Cumulative_returns_daily_drl_a2c),axis=0)\n",
    "\n",
    "axs[0,0].plot(test_re_df.index, a2c_mean, color='tab:blue', linewidth =2.0)\n",
    "axs[0,0].fill_between(test_re_df.index, a2c_mean - a2c_std, a2c_mean + a2c_std, alpha=0.2, color='tab:blue')\n",
    "axs[0,0].margins(x=0)\n",
    "axs[0,0].margins(y=0)\n",
    "axs[0,0].axhline(1, color='black', linestyle='--', lw=2)\n",
    "axs[0,0].set_ylabel(\"Cumulative Returns\")\n",
    "axs[0,0].set_xlabel(\"Time (Years-Months)\")\n",
    "\n",
    "portfolio_weights_a2c_ = np.mean(np.array(portfolio_weights_a2c),axis=0)\n",
    "df = pd.DataFrame (portfolio_weights_a2c_, index = test_re_df.index, columns = tickers)\n",
    "collective_df = df['ABB'], df['ASSA-B.ST'], df['AZN'], df['ATCO-A.ST'], df['ATCO-B.ST'], df['ALIV-SDB.ST'], df['BOL.ST'], df['ELUX-B.ST'], df['ERIC-B.ST'], df['GETI-B.ST'], df['HM-B.ST'], df['HEXA-B.ST'], df['INVE-B.ST'], df['KINV-B.ST'], df['NDA-SE.ST'], df['SAND'], df['SECU-B.ST'], df['SEB-A.ST'], df['SKA-B.ST'], df['SKF-B.ST'], df['SSAB-A.ST'], df['SCA-B.ST'], df['SHB-A.ST'], df['SWED-A.ST'], df['SWMA.ST'], df['TEL2-B.ST'], df['TELIA.ST'], df['VOLV-B.ST'] \n",
    "axs[0,1].stackplot(test_re_df.index,collective_df, labels=tickers)\n",
    "axs[0,1].legend(loc='upper right')\n",
    "axs[0,1].margins(x=0)\n",
    "axs[0,1].margins(y=0)\n",
    "axs[0,1].set_ylabel(\"Weights (%)\")\n",
    "axs[0,1].set_xlabel(\"Time (Years-Months)\")\n",
    "\n",
    "portfolio_weights_a2c_ = portfolio_weights_a2c[np.argmax(Cumulative_returns_daily_drl_a2c[:,-1])]\n",
    "df = pd.DataFrame (portfolio_weights_a2c_, index = test_re_df.index, columns = tickers)\n",
    "collective_df = df['ABB'], df['ASSA-B.ST'], df['AZN'], df['ATCO-A.ST'], df['ATCO-B.ST'], df['ALIV-SDB.ST'], df['BOL.ST'], df['ELUX-B.ST'], df['ERIC-B.ST'], df['GETI-B.ST'], df['HM-B.ST'], df['HEXA-B.ST'], df['INVE-B.ST'], df['KINV-B.ST'], df['NDA-SE.ST'], df['SAND'], df['SECU-B.ST'], df['SEB-A.ST'], df['SKA-B.ST'], df['SKF-B.ST'], df['SSAB-A.ST'], df['SCA-B.ST'], df['SHB-A.ST'], df['SWED-A.ST'], df['SWMA.ST'], df['TEL2-B.ST'], df['TELIA.ST'], df['VOLV-B.ST'] \n",
    "axs[1,0].stackplot(test_re_df.index, collective_df, labels=tickers)\n",
    "axs[1,0].margins(x=0)\n",
    "axs[1,0].margins(y=0)\n",
    "axs[1,0].set_ylabel(\"Weights (%)\")\n",
    "axs[1,0].set_xlabel(\"Time (Years-Months)\")\n",
    "\n",
    "portfolio_weights_a2c_ = portfolio_weights_a2c[np.argmin(Cumulative_returns_daily_drl_a2c[:,-1])]\n",
    "df = pd.DataFrame (portfolio_weights_a2c_, index = test_re_df.index, columns = tickers)\n",
    "collective_df = df['ABB'], df['ASSA-B.ST'], df['AZN'], df['ATCO-A.ST'], df['ATCO-B.ST'], df['ALIV-SDB.ST'], df['BOL.ST'], df['ELUX-B.ST'], df['ERIC-B.ST'], df['GETI-B.ST'], df['HM-B.ST'], df['HEXA-B.ST'], df['INVE-B.ST'], df['KINV-B.ST'], df['NDA-SE.ST'], df['SAND'], df['SECU-B.ST'], df['SEB-A.ST'], df['SKA-B.ST'], df['SKF-B.ST'], df['SSAB-A.ST'], df['SCA-B.ST'], df['SHB-A.ST'], df['SWED-A.ST'], df['SWMA.ST'], df['TEL2-B.ST'], df['TELIA.ST'], df['VOLV-B.ST'] \n",
    "axs[1,1].stackplot(test_re_df.index, collective_df, labels=tickers)\n",
    "axs[1,1].margins(x=0)\n",
    "axs[1,1].margins(y=0)\n",
    "axs[1,1].set_ylabel(\"Weights (%)\")\n",
    "axs[1,1].set_xlabel(\"Time (Years-Months)\")\n",
    "\n",
    "plt.savefig(algo+'_'+str(timesteps)+'_'+str(rebalance_period)+'_drl0.png',bbox_inches='tight')"
   ]
  },
  {
   "cell_type": "markdown",
   "id": "a85938db-1064-48c8-9943-35cb903bc2f5",
   "metadata": {
    "id": "a85938db-1064-48c8-9943-35cb903bc2f5"
   },
   "source": [
    "### DDPG"
   ]
  },
  {
   "cell_type": "code",
   "execution_count": null,
   "id": "67249a14-0a78-4df4-86de-35f9a2096271",
   "metadata": {
    "id": "67249a14-0a78-4df4-86de-35f9a2096271"
   },
   "outputs": [],
   "source": [
    "algo = \"DDPG\"\n",
    "Cumulative_returns_daily_drl_ddpg = np.zeros([runs, length])\n",
    "portfolio_weights_ddpg = np.zeros([runs, length, stocks])\n",
    "\n",
    "i=0\n",
    "cont=0\n",
    "while (i<runs):\n",
    "\n",
    "    train_env = DummyVecEnv([lambda: StockEnvTrade(df = train_re_df)])\n",
    "    model = train(algo, policy, train_env, timesteps, seed=cont, save=False)\n",
    "\n",
    "    test_env = DummyVecEnv([lambda: StockEnvTrade(df = test_re_df)])\n",
    "    test_obs = test_env.reset()\n",
    "\n",
    "    portfolio_weights_ddpg[i] = np.array(DRL_prediction(model, test_re_df, test_env, test_obs))\n",
    "    \n",
    "    check = np.sum(portfolio_weights_ddpg[i]) \n",
    "    cont = cont +1\n",
    "    if check != length:\n",
    "        continue\n",
    "\n",
    "    return_stocks = test_re_df.pct_change()\n",
    "    return_stocks_ddpg = np.sum(return_stocks.multiply(portfolio_weights_ddpg[i]),axis=1)\n",
    "    Cumulative_returns_daily_drl_ddpg[i] = (1+return_stocks_ddpg).cumprod()\n",
    "    i = i+1"
   ]
  },
  {
   "cell_type": "code",
   "execution_count": null,
   "id": "4784c109-ed64-4df8-bbb9-aad49dd1c2ae",
   "metadata": {
    "id": "4784c109-ed64-4df8-bbb9-aad49dd1c2ae"
   },
   "outputs": [],
   "source": [
    "fig, axs = plt.subplots(2, 2, figsize=(17,10),constrained_layout=True)\n",
    "\n",
    "ddpg_mean = np.mean(np.array(Cumulative_returns_daily_drl_ddpg),axis=0)\n",
    "ddpg_std = np.std(np.array(Cumulative_returns_daily_drl_ddpg),axis=0)\n",
    "\n",
    "axs[0,0].plot(test_re_df.index, ddpg_mean, color='tab:blue', linewidth =2.0)\n",
    "axs[0,0].fill_between(test_re_df.index, ddpg_mean - ddpg_std, ddpg_mean + ddpg_std, alpha=0.2, color='tab:blue')\n",
    "axs[0,0].margins(x=0)\n",
    "axs[0,0].margins(y=0)\n",
    "axs[0,0].axhline(1, color='black', linestyle='--', lw=2)\n",
    "axs[0,0].set_ylabel(\"Cumulative Returns\")\n",
    "axs[0,0].set_xlabel(\"Time (Years-Months)\")\n",
    "\n",
    "portfolio_weights_ddgpc_ = np.mean(np.array(portfolio_weights_ddpg),axis=0)\n",
    "df = pd.DataFrame (portfolio_weights_ddgpc_, index = test_re_df.index, columns = tickers)\n",
    "collective_df = df['ABB'], df['ASSA-B.ST'], df['AZN'], df['ATCO-A.ST'], df['ATCO-B.ST'], df['ALIV-SDB.ST'], df['BOL.ST'], df['ELUX-B.ST'], df['ERIC-B.ST'], df['GETI-B.ST'], df['HM-B.ST'], df['HEXA-B.ST'], df['INVE-B.ST'], df['KINV-B.ST'], df['NDA-SE.ST'], df['SAND'], df['SECU-B.ST'], df['SEB-A.ST'], df['SKA-B.ST'], df['SKF-B.ST'], df['SSAB-A.ST'], df['SCA-B.ST'], df['SHB-A.ST'], df['SWED-A.ST'], df['SWMA.ST'], df['TEL2-B.ST'], df['TELIA.ST'], df['VOLV-B.ST'] \n",
    "axs[0,1].stackplot(test_re_df.index, collective_df, labels=tickers)\n",
    "axs[0,1].legend(loc='upper right')\n",
    "axs[0,1].margins(x=0)\n",
    "axs[0,1].margins(y=0)\n",
    "axs[0,1].set_ylabel(\"Weights (%)\")\n",
    "axs[0,1].set_xlabel(\"Time (Years-Months)\")\n",
    "\n",
    "portfolio_weights_ddgpc_ = portfolio_weights_ddpg[np.argmax(Cumulative_returns_daily_drl_ddpg[:,-1])]\n",
    "df = pd.DataFrame (portfolio_weights_ddgpc_, index = test_re_df.index, columns = tickers)\n",
    "collective_df = df['ABB'], df['ASSA-B.ST'], df['AZN'], df['ATCO-A.ST'], df['ATCO-B.ST'], df['ALIV-SDB.ST'], df['BOL.ST'], df['ELUX-B.ST'], df['ERIC-B.ST'], df['GETI-B.ST'], df['HM-B.ST'], df['HEXA-B.ST'], df['INVE-B.ST'], df['KINV-B.ST'], df['NDA-SE.ST'], df['SAND'], df['SECU-B.ST'], df['SEB-A.ST'], df['SKA-B.ST'], df['SKF-B.ST'], df['SSAB-A.ST'], df['SCA-B.ST'], df['SHB-A.ST'], df['SWED-A.ST'], df['SWMA.ST'], df['TEL2-B.ST'], df['TELIA.ST'], df['VOLV-B.ST'] \n",
    "axs[1,0].stackplot(test_re_df.index, collective_df, labels=tickers)\n",
    "axs[1,0].margins(x=0)\n",
    "axs[1,0].margins(y=0)\n",
    "axs[1,0].set_ylabel(\"Weights (%)\")\n",
    "axs[1,0].set_xlabel(\"Time (Years-Months)\")\n",
    "\n",
    "portfolio_weights_ddgpc_ = portfolio_weights_ddpg[np.argmin(Cumulative_returns_daily_drl_ddpg[:,-1])]\n",
    "df = pd.DataFrame (portfolio_weights_ddgpc_, index = test_re_df.index, columns = tickers)\n",
    "collective_df = df['ABB'], df['ASSA-B.ST'], df['AZN'], df['ATCO-A.ST'], df['ATCO-B.ST'], df['ALIV-SDB.ST'], df['BOL.ST'], df['ELUX-B.ST'], df['ERIC-B.ST'], df['GETI-B.ST'], df['HM-B.ST'], df['HEXA-B.ST'], df['INVE-B.ST'], df['KINV-B.ST'], df['NDA-SE.ST'], df['SAND'], df['SECU-B.ST'], df['SEB-A.ST'], df['SKA-B.ST'], df['SKF-B.ST'], df['SSAB-A.ST'], df['SCA-B.ST'], df['SHB-A.ST'], df['SWED-A.ST'], df['SWMA.ST'], df['TEL2-B.ST'], df['TELIA.ST'], df['VOLV-B.ST'] \n",
    "axs[1,1].stackplot(test_re_df.index, collective_df, labels=tickers)\n",
    "axs[1,1].margins(x=0)\n",
    "axs[1,1].margins(y=0)\n",
    "axs[1,1].set_ylabel(\"Weights (%)\")\n",
    "axs[1,1].set_xlabel(\"Time (Years-Months)\")\n",
    "\n",
    "plt.savefig(algo+'_'+str(timesteps)+'_'+str(rebalance_period)+'_drl0.png',bbox_inches='tight')"
   ]
  },
  {
   "cell_type": "markdown",
   "id": "abed8f9e-b298-4a27-b987-0a28495ade13",
   "metadata": {
    "id": "abed8f9e-b298-4a27-b987-0a28495ade13"
   },
   "source": [
    "### SAC"
   ]
  },
  {
   "cell_type": "code",
   "execution_count": null,
   "id": "688813a1-5185-4ed9-af7c-baa4f5dad4dd",
   "metadata": {
    "id": "688813a1-5185-4ed9-af7c-baa4f5dad4dd"
   },
   "outputs": [],
   "source": [
    "algo = \"SAC\"\n",
    "Cumulative_returns_daily_drl_sac = np.zeros([runs, length])\n",
    "portfolio_weights_sac = np.zeros([runs, length, stocks])\n",
    "\n",
    "i=0\n",
    "cont=0\n",
    "while (i<runs):\n",
    "\n",
    "    train_env = DummyVecEnv([lambda: StockEnvTrade(df = train_re_df)])\n",
    "    model = train(algo, policy, train_env, timesteps, seed=cont, save=False)\n",
    "\n",
    "    test_env = DummyVecEnv([lambda: StockEnvTrade(df = test_re_df)])\n",
    "    test_obs = test_env.reset()\n",
    "\n",
    "    portfolio_weights_sac[i] = np.array(DRL_prediction(model, test_re_df, test_env, test_obs))\n",
    "    \n",
    "    check = np.sum(portfolio_weights_sac[i]) \n",
    "    cont = cont +1\n",
    "    if check != length:\n",
    "        continue\n",
    "    \n",
    "    return_stocks = test_re_df.pct_change()\n",
    "    return_stocks_sac = np.sum(return_stocks.multiply(portfolio_weights_sac[i]),axis=1)\n",
    "    Cumulative_returns_daily_drl_sac[i] = (1+return_stocks_sac).cumprod()\n",
    "    i = i+1"
   ]
  },
  {
   "cell_type": "code",
   "execution_count": null,
   "id": "52d268a2-1f44-4d7d-bfcc-a44c6add7121",
   "metadata": {
    "id": "52d268a2-1f44-4d7d-bfcc-a44c6add7121"
   },
   "outputs": [],
   "source": [
    "fig, axs = plt.subplots(2, 2, figsize=(17,10),constrained_layout=True)\n",
    "\n",
    "sac_mean = np.mean(np.array(Cumulative_returns_daily_drl_sac),axis=0)\n",
    "sac_std = np.std(np.array(Cumulative_returns_daily_drl_sac),axis=0)\n",
    "\n",
    "axs[0,0].plot(test_re_df.index, sac_mean, color='tab:blue', linewidth =2.0)\n",
    "axs[0,0].fill_between(test_re_df.index, sac_mean - sac_std, sac_mean + sac_std, alpha=0.2, color='tab:blue')\n",
    "axs[0,0].margins(x=0)\n",
    "axs[0,0].margins(y=0)\n",
    "axs[0,0].axhline(1, color='black', linestyle='--', lw=2)\n",
    "axs[0,0].set_ylabel(\"Cumulative Returns\")\n",
    "axs[0,0].set_xlabel(\"Time (Years-Months)\")\n",
    "\n",
    "portfolio_weights_sac_ = np.mean(np.array(portfolio_weights_sac),axis=0)\n",
    "df = pd.DataFrame (portfolio_weights_sac_, index = test_re_df.index, columns = tickers)\n",
    "collective_df = df['ABB'], df['ASSA-B.ST'], df['AZN'], df['ATCO-A.ST'], df['ATCO-B.ST'], df['ALIV-SDB.ST'], df['BOL.ST'], df['ELUX-B.ST'], df['ERIC-B.ST'], df['GETI-B.ST'], df['HM-B.ST'], df['HEXA-B.ST'], df['INVE-B.ST'], df['KINV-B.ST'], df['NDA-SE.ST'], df['SAND'], df['SECU-B.ST'], df['SEB-A.ST'], df['SKA-B.ST'], df['SKF-B.ST'], df['SSAB-A.ST'], df['SCA-B.ST'], df['SHB-A.ST'], df['SWED-A.ST'], df['SWMA.ST'], df['TEL2-B.ST'], df['TELIA.ST'], df['VOLV-B.ST'] \n",
    "axs[0,1].stackplot(test_re_df.index, collective_df, labels=tickers)\n",
    "axs[0,1].legend(loc='upper right')\n",
    "axs[0,1].margins(x=0)\n",
    "axs[0,1].margins(y=0)\n",
    "axs[0,1].set_ylabel(\"Weights (%)\")\n",
    "axs[0,1].set_xlabel(\"Time (Years-Months)\")\n",
    "\n",
    "portfolio_weights_sac_ = portfolio_weights_sac[np.argmax(Cumulative_returns_daily_drl_sac[:,-1])]\n",
    "df = pd.DataFrame (portfolio_weights_sac_, index = test_re_df.index, columns = tickers)\n",
    "collective_df = df['ABB'], df['ASSA-B.ST'], df['AZN'], df['ATCO-A.ST'], df['ATCO-B.ST'], df['ALIV-SDB.ST'], df['BOL.ST'], df['ELUX-B.ST'], df['ERIC-B.ST'], df['GETI-B.ST'], df['HM-B.ST'], df['HEXA-B.ST'], df['INVE-B.ST'], df['KINV-B.ST'], df['NDA-SE.ST'], df['SAND'], df['SECU-B.ST'], df['SEB-A.ST'], df['SKA-B.ST'], df['SKF-B.ST'], df['SSAB-A.ST'], df['SCA-B.ST'], df['SHB-A.ST'], df['SWED-A.ST'], df['SWMA.ST'], df['TEL2-B.ST'], df['TELIA.ST'], df['VOLV-B.ST'] \n",
    "axs[1,0].stackplot(test_re_df.index, collective_df, labels=tickers)\n",
    "axs[1,0].margins(x=0)\n",
    "axs[1,0].margins(y=0)\n",
    "axs[1,0].set_ylabel(\"Weights (%)\")\n",
    "axs[1,0].set_xlabel(\"Time (Years-Months)\")\n",
    "\n",
    "portfolio_weights_sac_ = portfolio_weights_sac[np.argmin(Cumulative_returns_daily_drl_sac[:,-1])]\n",
    "df = pd.DataFrame (portfolio_weights_sac_, index = test_re_df.index, columns = tickers)\n",
    "collective_df = df['ABB'], df['ASSA-B.ST'], df['AZN'], df['ATCO-A.ST'], df['ATCO-B.ST'], df['ALIV-SDB.ST'], df['BOL.ST'], df['ELUX-B.ST'], df['ERIC-B.ST'], df['GETI-B.ST'], df['HM-B.ST'], df['HEXA-B.ST'], df['INVE-B.ST'], df['KINV-B.ST'], df['NDA-SE.ST'], df['SAND'], df['SECU-B.ST'], df['SEB-A.ST'], df['SKA-B.ST'], df['SKF-B.ST'], df['SSAB-A.ST'], df['SCA-B.ST'], df['SHB-A.ST'], df['SWED-A.ST'], df['SWMA.ST'], df['TEL2-B.ST'], df['TELIA.ST'], df['VOLV-B.ST'] \n",
    "axs[1,1].stackplot(test_re_df.index, collective_df, labels=tickers)\n",
    "axs[1,1].margins(x=0)\n",
    "axs[1,1].margins(y=0)\n",
    "axs[1,1].set_ylabel(\"Weights (%)\")\n",
    "axs[1,1].set_xlabel(\"Time (Years-Months)\")\n",
    "\n",
    "plt.savefig(algo+'_'+str(timesteps)+'_'+str(rebalance_period)+'_drl0.png',bbox_inches='tight')"
   ]
  },
  {
   "cell_type": "markdown",
   "id": "126a1679-0caa-43da-8217-4f133a3b4c78",
   "metadata": {
    "id": "126a1679-0caa-43da-8217-4f133a3b4c78"
   },
   "source": [
    "### TD3"
   ]
  },
  {
   "cell_type": "code",
   "execution_count": null,
   "id": "e04f497f-facc-4fc3-8ec4-f48df8a1c510",
   "metadata": {
    "id": "e04f497f-facc-4fc3-8ec4-f48df8a1c510"
   },
   "outputs": [],
   "source": [
    "algo = \"TD3\"\n",
    "Cumulative_returns_daily_drl_td3 = np.zeros([runs, length])\n",
    "portfolio_weights_td3 = np.zeros([runs, length, stocks])\n",
    "\n",
    "i=0\n",
    "cont=0\n",
    "while (i<runs):\n",
    "\n",
    "    train_env = DummyVecEnv([lambda: StockEnvTrade(df = train_re_df)])\n",
    "    model = train(algo, policy, train_env, timesteps, seed=cont, save=False)\n",
    "\n",
    "    test_env = DummyVecEnv([lambda: StockEnvTrade(df = test_re_df)])\n",
    "    test_obs = test_env.reset()\n",
    "\n",
    "    portfolio_weights_td3[i] = np.array(DRL_prediction(model, test_re_df, test_env, test_obs))\n",
    "    \n",
    "    check = np.sum(portfolio_weights_td3[i])\n",
    "    cont = cont +1\n",
    "    if check != length:\n",
    "        continue\n",
    "\n",
    "    return_stocks = test_re_df.pct_change()\n",
    "    return_stocks_td3 = np.sum(return_stocks.multiply(portfolio_weights_td3[i]),axis=1)\n",
    "    Cumulative_returns_daily_drl_td3[i] = (1+return_stocks_td3).cumprod()\n",
    "    i = i+1"
   ]
  },
  {
   "cell_type": "code",
   "execution_count": null,
   "id": "6c685d71-40be-4821-9a58-c043e3581b35",
   "metadata": {
    "id": "6c685d71-40be-4821-9a58-c043e3581b35"
   },
   "outputs": [],
   "source": [
    "fig, axs = plt.subplots(2, 2, figsize=(17,10),constrained_layout=True)\n",
    "\n",
    "td3_mean = np.mean(np.array(Cumulative_returns_daily_drl_td3),axis=0)\n",
    "td3_std = np.std(np.array(Cumulative_returns_daily_drl_td3),axis=0)\n",
    "\n",
    "axs[0,0].plot(test_re_df.index, td3_mean, color='tab:blue', linewidth =2.0)\n",
    "axs[0,0].fill_between(test_re_df.index, td3_mean - td3_std, td3_mean + td3_std, alpha=0.2, color='tab:blue')\n",
    "axs[0,0].margins(x=0)\n",
    "axs[0,0].margins(y=0)\n",
    "axs[0,0].axhline(1, color='black', linestyle='--', lw=2)\n",
    "axs[0,0].set_ylabel(\"Cumulative Returns\")\n",
    "axs[0,0].set_xlabel(\"Time (Years-Months)\")\n",
    "\n",
    "portfolio_weights_td3_ = np.mean(np.array(portfolio_weights_td3),axis=0)\n",
    "df = pd.DataFrame (portfolio_weights_td3_, index = test_re_df.index, columns = tickers)\n",
    "collective_df = df['ABB'], df['ASSA-B.ST'], df['AZN'], df['ATCO-A.ST'], df['ATCO-B.ST'], df['ALIV-SDB.ST'], df['BOL.ST'], df['ELUX-B.ST'], df['ERIC-B.ST'], df['GETI-B.ST'], df['HM-B.ST'], df['HEXA-B.ST'], df['INVE-B.ST'], df['KINV-B.ST'], df['NDA-SE.ST'], df['SAND'], df['SECU-B.ST'], df['SEB-A.ST'], df['SKA-B.ST'], df['SKF-B.ST'], df['SSAB-A.ST'], df['SCA-B.ST'], df['SHB-A.ST'], df['SWED-A.ST'], df['SWMA.ST'], df['TEL2-B.ST'], df['TELIA.ST'], df['VOLV-B.ST'] \n",
    "axs[0,1].stackplot(test_re_df.index, collective_df, labels=tickers)\n",
    "axs[0,1].legend(loc='upper right')\n",
    "axs[0,1].margins(x=0)\n",
    "axs[0,1].margins(y=0)\n",
    "axs[0,1].set_ylabel(\"Weights (%)\")\n",
    "axs[0,1].set_xlabel(\"Time (Years-Months)\")\n",
    "\n",
    "portfolio_weights_td3_ = portfolio_weights_td3[np.argmax(Cumulative_returns_daily_drl_td3[:,-1])]\n",
    "df = pd.DataFrame (portfolio_weights_td3_, index = test_re_df.index, columns = tickers)\n",
    "collective_df = df['ABB'], df['ASSA-B.ST'], df['AZN'], df['ATCO-A.ST'], df['ATCO-B.ST'], df['ALIV-SDB.ST'], df['BOL.ST'], df['ELUX-B.ST'], df['ERIC-B.ST'], df['GETI-B.ST'], df['HM-B.ST'], df['HEXA-B.ST'], df['INVE-B.ST'], df['KINV-B.ST'], df['NDA-SE.ST'], df['SAND'], df['SECU-B.ST'], df['SEB-A.ST'], df['SKA-B.ST'], df['SKF-B.ST'], df['SSAB-A.ST'], df['SCA-B.ST'], df['SHB-A.ST'], df['SWED-A.ST'], df['SWMA.ST'], df['TEL2-B.ST'], df['TELIA.ST'], df['VOLV-B.ST'] \n",
    "axs[1,0].stackplot(test_re_df.index,collective_df, labels=tickers)\n",
    "axs[1,0].margins(x=0)\n",
    "axs[1,0].margins(y=0)\n",
    "axs[1,0].set_ylabel(\"Weights (%)\")\n",
    "axs[1,0].set_xlabel(\"Time (Years-Months)\")\n",
    "\n",
    "portfolio_weights_td3_ = portfolio_weights_td3[np.argmin(Cumulative_returns_daily_drl_td3[:,-1])]\n",
    "df = pd.DataFrame (portfolio_weights_td3_, index = test_re_df.index, columns = tickers)\n",
    "collective_df = df['ABB'], df['ASSA-B.ST'], df['AZN'], df['ATCO-A.ST'], df['ATCO-B.ST'], df['ALIV-SDB.ST'], df['BOL.ST'], df['ELUX-B.ST'], df['ERIC-B.ST'], df['GETI-B.ST'], df['HM-B.ST'], df['HEXA-B.ST'], df['INVE-B.ST'], df['KINV-B.ST'], df['NDA-SE.ST'], df['SAND'], df['SECU-B.ST'], df['SEB-A.ST'], df['SKA-B.ST'], df['SKF-B.ST'], df['SSAB-A.ST'], df['SCA-B.ST'], df['SHB-A.ST'], df['SWED-A.ST'], df['SWMA.ST'], df['TEL2-B.ST'], df['TELIA.ST'], df['VOLV-B.ST'] \n",
    "axs[1,1].stackplot(test_re_df.index,collective_df, labels=tickers)\n",
    "axs[1,1].margins(x=0)\n",
    "axs[1,1].margins(y=0)\n",
    "axs[1,1].set_ylabel(\"Weights (%)\")\n",
    "axs[1,1].set_xlabel(\"Time (Years-Months)\")\n",
    "\n",
    "plt.savefig(algo+'_'+str(timesteps)+'_'+str(rebalance_period)+'_drl0.png',bbox_inches='tight')"
   ]
  },
  {
   "cell_type": "markdown",
   "id": "450ea289-398c-4784-8b1a-fc6ba06b6daa",
   "metadata": {
    "id": "450ea289-398c-4784-8b1a-fc6ba06b6daa"
   },
   "source": [
    "## Traditional approaches"
   ]
  },
  {
   "cell_type": "code",
   "execution_count": null,
   "id": "4PFykYIum8hj",
   "metadata": {
    "id": "4PFykYIum8hj"
   },
   "outputs": [],
   "source": [
    "! pip install pyportfolioopt"
   ]
  },
  {
   "cell_type": "code",
   "execution_count": null,
   "id": "9pmGLWwhnNcW",
   "metadata": {
    "id": "9pmGLWwhnNcW"
   },
   "outputs": [],
   "source": [
    "! pip install Riskfolio-Lib"
   ]
  },
  {
   "cell_type": "code",
   "execution_count": null,
   "id": "5d2dd8a2-4919-436c-ad2d-8e0b62465532",
   "metadata": {
    "id": "5d2dd8a2-4919-436c-ad2d-8e0b62465532"
   },
   "outputs": [],
   "source": [
    "from pypfopt.efficient_frontier import EfficientFrontier\n",
    "from pypfopt import risk_models, expected_returns, objective_functions\n",
    "import numpy as np\n",
    "import pandas as pd\n",
    "import matplotlib.pyplot as plt\n",
    "import riskfolio as rp"
   ]
  },
  {
   "cell_type": "code",
   "execution_count": null,
   "id": "6f392783-c669-47fb-8b32-b0fac74b28f2",
   "metadata": {
    "id": "6f392783-c669-47fb-8b32-b0fac74b28f2"
   },
   "outputs": [],
   "source": [
    "# working days in a year 252\n",
    "window = 50\n",
    "start = len(train_re_df)-window\n",
    "data = re_df.iloc[start:]\n",
    "data = data.reset_index(drop=True)"
   ]
  },
  {
   "cell_type": "markdown",
   "id": "8244ab1e-7505-456a-8c32-42ccae3a08f6",
   "metadata": {
    "id": "8244ab1e-7505-456a-8c32-42ccae3a08f6"
   },
   "source": [
    "### Min-Variance Portfolio Allocation"
   ]
  },
  {
   "cell_type": "code",
   "execution_count": null,
   "id": "86953e9b-53a6-4801-8f1b-b0d34f0e03e2",
   "metadata": {
    "id": "86953e9b-53a6-4801-8f1b-b0d34f0e03e2"
   },
   "outputs": [],
   "source": [
    "portfolio_weights_min_var = np.zeros([test_re_df.shape[0], len(tickers)])\n",
    "\n",
    "idx=0\n",
    "for i in range(portfolio_weights_min_var.shape[0]):    \n",
    "    sel = data.iloc[i:window+i]\n",
    "    \n",
    "    mu = expected_returns.mean_historical_return(sel)\n",
    "    S = risk_models.sample_cov(sel)\n",
    "\n",
    "    # optimize for max sharpe ratio\n",
    "    ef = EfficientFrontier(mu, S)\n",
    "    \n",
    "    try:\n",
    "        weights = ef.max_sharpe()\n",
    "    except:\n",
    "        weights = ef.nonconvex_objective(\n",
    "            objective_functions.sharpe_ratio,\n",
    "            objective_args=(ef.expected_returns, ef.cov_matrix),\n",
    "            weights_sum_to_one=True,\n",
    "        )\n",
    "\n",
    "    portfolio_weights_min_var[idx]=np.array([weights[j] for j in tickers])\n",
    "    idx +=1"
   ]
  },
  {
   "cell_type": "code",
   "execution_count": null,
   "id": "a14d963e-1bea-4012-8a49-94f28deac043",
   "metadata": {
    "id": "a14d963e-1bea-4012-8a49-94f28deac043"
   },
   "outputs": [],
   "source": [
    "return_stocks = test_re_df.pct_change()\n",
    "return_stocks_min_var = np.sum(return_stocks.multiply(portfolio_weights_min_var),axis=1)\n",
    "Cumulative_returns_daily_min_var = (1+return_stocks_min_var).cumprod()\n",
    "plt.plot(Cumulative_returns_daily_min_var)\n",
    "plt.axhline(1, color='black', linestyle='--', lw=2)\n",
    "plt.ylabel(\"Cumulative Returns\")\n",
    "plt.xlabel(\"Time (Years-Months)\")"
   ]
  },
  {
   "cell_type": "code",
   "execution_count": null,
   "id": "2587ede1-4f5b-46a0-a0fe-f8845a348fa1",
   "metadata": {
    "id": "2587ede1-4f5b-46a0-a0fe-f8845a348fa1"
   },
   "outputs": [],
   "source": [
    "df = pd.DataFrame (portfolio_weights_min_var, index = test_re_df.index, columns = tickers)\n",
    "collective_df = df['ABB'], df['ASSA-B.ST'], df['AZN'], df['ATCO-A.ST'], df['ATCO-B.ST'], df['ALIV-SDB.ST'], df['BOL.ST'], df['ELUX-B.ST'], df['ERIC-B.ST'], df['GETI-B.ST'], df['HM-B.ST'], df['HEXA-B.ST'], df['INVE-B.ST'], df['KINV-B.ST'], df['NDA-SE.ST'], df['SAND'], df['SECU-B.ST'], df['SEB-A.ST'], df['SKA-B.ST'], df['SKF-B.ST'], df['SSAB-A.ST'], df['SCA-B.ST'], df['SHB-A.ST'], df['SWED-A.ST'], df['SWMA.ST'], df['TEL2-B.ST'], df['TELIA.ST'], df['VOLV-B.ST'] \n",
    "plt.stackplot(test_re_df.index, collective_df, labels=tickers)\n",
    "plt.legend(loc='upper right')\n",
    "plt.margins(x=0)\n",
    "plt.margins(y=0)\n",
    "plt.xlabel(\"Time (Years-Months)\")"
   ]
  },
  {
   "cell_type": "markdown",
   "id": "e5e766c4-3034-4887-b9ca-8138acd1f397",
   "metadata": {
    "id": "e5e766c4-3034-4887-b9ca-8138acd1f397"
   },
   "source": [
    "### Min volatility"
   ]
  },
  {
   "cell_type": "code",
   "execution_count": null,
   "id": "e66550e9-a3b8-4b27-af26-858d6bf17795",
   "metadata": {
    "id": "e66550e9-a3b8-4b27-af26-858d6bf17795"
   },
   "outputs": [],
   "source": [
    "portfolio_weights_min_vol = np.zeros([test_re_df.shape[0], len(tickers)])\n",
    "\n",
    "idx=0\n",
    "for i in range(portfolio_weights_min_vol.shape[0]):    \n",
    "    sel = data.iloc[i:window+i]\n",
    "    \n",
    "    mu = expected_returns.mean_historical_return(sel)\n",
    "    S = risk_models.sample_cov(sel)\n",
    "\n",
    "    # optimize for max sharpe ratio\n",
    "    ef = EfficientFrontier(mu, S)  \n",
    "    weights = ef.min_volatility() \n",
    "   \n",
    "    portfolio_weights_min_vol[idx]=np.array([weights[j] for j in tickers])\n",
    "    idx +=1"
   ]
  },
  {
   "cell_type": "code",
   "execution_count": null,
   "id": "ee278dcb-5733-4c7c-b365-aec95ff64dd3",
   "metadata": {
    "id": "ee278dcb-5733-4c7c-b365-aec95ff64dd3"
   },
   "outputs": [],
   "source": [
    "return_stocks_min_vol = np.sum(return_stocks.multiply(portfolio_weights_min_vol),axis=1)\n",
    "Cumulative_returns_daily_min_vol = (1+return_stocks_min_vol).cumprod()\n",
    "plt.plot(Cumulative_returns_daily_min_vol)\n",
    "plt.axhline(1, color='black', linestyle='--', lw=2)\n",
    "plt.ylabel(\"Cumulative Returns\")\n",
    "plt.xlabel(\"Time (Years-Months)\")"
   ]
  },
  {
   "cell_type": "code",
   "execution_count": null,
   "id": "16267b48-7fb3-446b-b70b-1e1d25a5288c",
   "metadata": {
    "id": "16267b48-7fb3-446b-b70b-1e1d25a5288c"
   },
   "outputs": [],
   "source": [
    "df = pd.DataFrame (portfolio_weights_min_vol, index = test_re_df.index, columns = tickers)\n",
    "collective_df = df['ABB'], df['ASSA-B.ST'], df['AZN'], df['ATCO-A.ST'], df['ATCO-B.ST'], df['ALIV-SDB.ST'], df['BOL.ST'], df['ELUX-B.ST'], df['ERIC-B.ST'], df['GETI-B.ST'], df['HM-B.ST'], df['HEXA-B.ST'], df['INVE-B.ST'], df['KINV-B.ST'], df['NDA-SE.ST'], df['SAND'], df['SECU-B.ST'], df['SEB-A.ST'], df['SKA-B.ST'], df['SKF-B.ST'], df['SSAB-A.ST'], df['SCA-B.ST'], df['SHB-A.ST'], df['SWED-A.ST'], df['SWMA.ST'], df['TEL2-B.ST'], df['TELIA.ST'], df['VOLV-B.ST'] \n",
    "plt.stackplot(test_re_df.index, collective_df, labels=tickers)\n",
    "plt.legend(loc='upper right')\n",
    "plt.margins(x=0)\n",
    "plt.margins(y=0)\n",
    "plt.xlabel(\"Time (Years-Months)\")"
   ]
  },
  {
   "cell_type": "markdown",
   "id": "2a899912-0b62-40db-8d0f-6b7d79f28a75",
   "metadata": {
    "id": "2a899912-0b62-40db-8d0f-6b7d79f28a75"
   },
   "source": [
    "### Risk Parity"
   ]
  },
  {
   "cell_type": "code",
   "execution_count": null,
   "id": "00bcd1fb-6f3d-42b1-8f45-61cb1750af1f",
   "metadata": {
    "id": "00bcd1fb-6f3d-42b1-8f45-61cb1750af1f"
   },
   "outputs": [],
   "source": [
    "portfolio_weights_risk = np.zeros([test_re_df.shape[0], len(tickers)])\n",
    "\n",
    "idx=0\n",
    "for i in range(portfolio_weights_risk.shape[0]):    \n",
    "    sel = data.iloc[i:window+i]\n",
    "   \n",
    "    # Building the portfolio object\n",
    "    port = rp.Portfolio(returns=sel)\n",
    "\n",
    "    # Calculating optimal portfolio\n",
    "    # Select method and estimate input parameters:\n",
    "    method_mu='hist' # Method to estimate expected returns based on historical data.\n",
    "    method_cov='hist' # Method to estimate covariance matrix based on historical data.\n",
    "\n",
    "    port.assets_stats(method_mu=method_mu, method_cov=method_cov, d=0.94)\n",
    "\n",
    "    model='Classic' # Could be Classic (historical) or FM (Factor Model)\n",
    "    rm = 'MV' # Risk measure used, this time will be variance\n",
    "    hist = True # Use historical scenarios for risk measures that depend on scenarios\n",
    "    rf = 0 # Risk free rate\n",
    "    b = None # Risk contribution constraints vector\n",
    "    weights = port.rp_optimization(model=model, rm=rm, rf=rf, b=b, hist=hist)\n",
    "   \n",
    "    portfolio_weights_risk[idx]=np.squeeze(np.array(weights))\n",
    "    idx +=1  "
   ]
  },
  {
   "cell_type": "code",
   "execution_count": null,
   "id": "cab0bc82-376d-4553-bde8-6aefb9ecf4e3",
   "metadata": {
    "id": "cab0bc82-376d-4553-bde8-6aefb9ecf4e3"
   },
   "outputs": [],
   "source": [
    "return_stocks = test_re_df.pct_change()\n",
    "return_stocks_risk = np.sum(return_stocks.multiply(portfolio_weights_risk),axis=1)\n",
    "Cumulative_returns_daily_risk = (1+return_stocks_risk).cumprod()\n",
    "plt.plot(Cumulative_returns_daily_risk)\n",
    "plt.axhline(1, color='black', linestyle='--', lw=2)\n",
    "plt.ylabel(\"Cumulative Returns\")\n",
    "plt.xlabel(\"Time (Years-Months)\")"
   ]
  },
  {
   "cell_type": "code",
   "execution_count": null,
   "id": "a912a9b1-9695-4f3b-bb85-b67f2df0fdf8",
   "metadata": {
    "id": "a912a9b1-9695-4f3b-bb85-b67f2df0fdf8"
   },
   "outputs": [],
   "source": [
    "df = pd.DataFrame (portfolio_weights_risk, index = test_re_df.index, columns = tickers)\n",
    "collective_df = df['ABB'], df['ASSA-B.ST'], df['AZN'], df['ATCO-A.ST'], df['ATCO-B.ST'], df['ALIV-SDB.ST'], df['BOL.ST'], df['ELUX-B.ST'], df['ERIC-B.ST'], df['GETI-B.ST'], df['HM-B.ST'], df['HEXA-B.ST'], df['INVE-B.ST'], df['KINV-B.ST'], df['NDA-SE.ST'], df['SAND'], df['SECU-B.ST'], df['SEB-A.ST'], df['SKA-B.ST'], df['SKF-B.ST'], df['SSAB-A.ST'], df['SCA-B.ST'], df['SHB-A.ST'], df['SWED-A.ST'], df['SWMA.ST'], df['TEL2-B.ST'], df['TELIA.ST'], df['VOLV-B.ST'] \n",
    "plt.stackplot(test_re_df.index,collective_df, labels=tickers)\n",
    "plt.legend(loc='upper right')\n",
    "plt.margins(x=0)\n",
    "plt.margins(y=0)\n",
    "plt.xlabel(\"Time (Years-Months)\")"
   ]
  },
  {
   "cell_type": "markdown",
   "id": "2811ebf0-6648-4c30-b4b3-ae653ea9573f",
   "metadata": {
    "id": "2811ebf0-6648-4c30-b4b3-ae653ea9573f"
   },
   "source": [
    "### Equal weighting"
   ]
  },
  {
   "cell_type": "code",
   "execution_count": null,
   "id": "53c7385b-8f66-4797-a641-116fcb75025a",
   "metadata": {
    "id": "53c7385b-8f66-4797-a641-116fcb75025a"
   },
   "outputs": [],
   "source": [
    "portfolio_weights_equal = np.ones([test_re_df.shape[0],test_re_df.shape[1]])/test_re_df.shape[1]"
   ]
  },
  {
   "cell_type": "code",
   "execution_count": null,
   "id": "7e1fee9d-926e-44fe-b3d8-e24e47b06990",
   "metadata": {
    "id": "7e1fee9d-926e-44fe-b3d8-e24e47b06990"
   },
   "outputs": [],
   "source": [
    "return_stocks = test_re_df.pct_change()\n",
    "return_stocks_equal = np.sum(return_stocks.multiply(portfolio_weights_equal),axis=1)\n",
    "Cumulative_returns_daily_equal = (1+return_stocks_equal).cumprod()\n",
    "plt.plot(Cumulative_returns_daily_equal)\n",
    "plt.axhline(1, color='black', linestyle='--', lw=2)\n",
    "plt.ylabel(\"Cumulative Returns\")\n",
    "plt.xlabel(\"Time (Years-Months)\")"
   ]
  },
  {
   "cell_type": "code",
   "execution_count": null,
   "id": "a9284116-74fa-49df-bda0-12223f4d6466",
   "metadata": {
    "id": "a9284116-74fa-49df-bda0-12223f4d6466"
   },
   "outputs": [],
   "source": [
    "df = pd.DataFrame (portfolio_weights_equal, index = test_re_df.index, columns = tickers)\n",
    "collective_df = df['ABB'], df['ASSA-B.ST'], df['AZN'], df['ATCO-A.ST'], df['ATCO-B.ST'], df['ALIV-SDB.ST'], df['BOL.ST'], df['ELUX-B.ST'], df['ERIC-B.ST'], df['GETI-B.ST'], df['HM-B.ST'], df['HEXA-B.ST'], df['INVE-B.ST'], df['KINV-B.ST'], df['NDA-SE.ST'], df['SAND'], df['SECU-B.ST'], df['SEB-A.ST'], df['SKA-B.ST'], df['SKF-B.ST'], df['SSAB-A.ST'], df['SCA-B.ST'], df['SHB-A.ST'], df['SWED-A.ST'], df['SWMA.ST'], df['TEL2-B.ST'], df['TELIA.ST'], df['VOLV-B.ST'] \n",
    "plt.stackplot(test_re_df.index,collective_df, labels=tickers)\n",
    "plt.legend(loc='upper right')\n",
    "plt.margins(x=0)\n",
    "plt.margins(y=0)\n",
    "plt.xlabel(\"Time (Years-Months)\")"
   ]
  },
  {
   "cell_type": "code",
   "execution_count": null,
   "id": "f405365b-5e89-46bd-bd74-8d5be5329e9d",
   "metadata": {
    "id": "f405365b-5e89-46bd-bd74-8d5be5329e9d"
   },
   "outputs": [],
   "source": [
    "\n",
    "fig, axs = plt.subplots(2, 2, figsize=(17,10),constrained_layout=True)\n",
    "\n",
    "df = pd.DataFrame (portfolio_weights_min_var, index = test_re_df.index, columns = tickers)\n",
    "# axs[0,0].stackplot(test_re_df.index, df['AAPL'], df['GE'], df['JPM'], df['MSFT'], df['VOD'], df['NKE'], df['NVDA'], df['MMM'])\n",
    "axs[0,0].stackplot(test_re_df.index, collective_df, labels=tickers)\n",
    "axs[0,0].margins(x=0)\n",
    "axs[0,0].margins(y=0)\n",
    "axs[0,0].set_ylabel(\"Weights (%)\")\n",
    "axs[0,0].set_xlabel(\"Time (Years-Months)\")\n",
    "\n",
    "df = pd.DataFrame (portfolio_weights_min_vol, index = test_re_df.index, columns = tickers)\n",
    "collective_df = df['ABB'], df['ASSA-B.ST'], df['AZN'], df['ATCO-A.ST'], df['ATCO-B.ST'], df['ALIV-SDB.ST'], df['BOL.ST'], df['ELUX-B.ST'], df['ERIC-B.ST'], df['GETI-B.ST'], df['HM-B.ST'], df['HEXA-B.ST'], df['INVE-B.ST'], df['KINV-B.ST'], df['NDA-SE.ST'], df['SAND'], df['SECU-B.ST'], df['SEB-A.ST'], df['SKA-B.ST'], df['SKF-B.ST'], df['SSAB-A.ST'], df['SCA-B.ST'], df['SHB-A.ST'], df['SWED-A.ST'], df['SWMA.ST'], df['TEL2-B.ST'], df['TELIA.ST'], df['VOLV-B.ST'] \n",
    "axs[0,1].stackplot(test_re_df.index, collective_df, labels=tickers)\n",
    "axs[0,1].legend(loc='upper right')\n",
    "axs[0,1].margins(x=0)\n",
    "axs[0,1].margins(y=0)\n",
    "axs[0,1].set_ylabel(\"Weights (%)\")\n",
    "axs[0,1].set_xlabel(\"Time (Years-Months)\")\n",
    "\n",
    "df = pd.DataFrame (portfolio_weights_risk, index = test_re_df.index, columns = tickers)\n",
    "collective_df = df['ABB'], df['ASSA-B.ST'], df['AZN'], df['ATCO-A.ST'], df['ATCO-B.ST'], df['ALIV-SDB.ST'], df['BOL.ST'], df['ELUX-B.ST'], df['ERIC-B.ST'], df['GETI-B.ST'], df['HM-B.ST'], df['HEXA-B.ST'], df['INVE-B.ST'], df['KINV-B.ST'], df['NDA-SE.ST'], df['SAND'], df['SECU-B.ST'], df['SEB-A.ST'], df['SKA-B.ST'], df['SKF-B.ST'], df['SSAB-A.ST'], df['SCA-B.ST'], df['SHB-A.ST'], df['SWED-A.ST'], df['SWMA.ST'], df['TEL2-B.ST'], df['TELIA.ST'], df['VOLV-B.ST'] \n",
    "axs[1,0].stackplot(test_re_df.index, collective_df)\n",
    "axs[1,0].margins(x=0)\n",
    "axs[1,0].margins(y=0)\n",
    "axs[1,0].set_ylabel(\"Weights (%)\")\n",
    "axs[1,0].set_xlabel(\"Time (Years-Months)\")\n",
    "\n",
    "df = pd.DataFrame (portfolio_weights_equal, index = test_re_df.index, columns = tickers)\n",
    "collective_df = df['ABB'], df['ASSA-B.ST'], df['AZN'], df['ATCO-A.ST'], df['ATCO-B.ST'], df['ALIV-SDB.ST'], df['BOL.ST'], df['ELUX-B.ST'], df['ERIC-B.ST'], df['GETI-B.ST'], df['HM-B.ST'], df['HEXA-B.ST'], df['INVE-B.ST'], df['KINV-B.ST'], df['NDA-SE.ST'], df['SAND'], df['SECU-B.ST'], df['SEB-A.ST'], df['SKA-B.ST'], df['SKF-B.ST'], df['SSAB-A.ST'], df['SCA-B.ST'], df['SHB-A.ST'], df['SWED-A.ST'], df['SWMA.ST'], df['TEL2-B.ST'], df['TELIA.ST'], df['VOLV-B.ST'] \n",
    "axs[1,1].stackplot(test_re_df.index, collective_df)\n",
    "axs[1,1].margins(x=0)\n",
    "axs[1,1].margins(y=0)\n",
    "axs[1,1].set_ylabel(\"Weights (%)\")\n",
    "axs[1,1].set_xlabel(\"Time (Years-Months)\")\n",
    "\n",
    "\n",
    "plt.savefig('traditional0.png',bbox_inches='tight')"
   ]
  },
  {
   "cell_type": "markdown",
   "id": "4ab3227f-3585-4f15-bcff-4167117e9a60",
   "metadata": {
    "id": "4ab3227f-3585-4f15-bcff-4167117e9a60"
   },
   "source": [
    "## Plotting all cumulative returns mtogether"
   ]
  },
  {
   "cell_type": "code",
   "execution_count": null,
   "id": "a2ab3aa7-1031-49b0-ae90-2af762ed462b",
   "metadata": {
    "id": "a2ab3aa7-1031-49b0-ae90-2af762ed462b"
   },
   "outputs": [],
   "source": [
    "x = Cumulative_returns_daily_equal.index.values\n",
    "\n",
    "plt.plot(x, Cumulative_returns_daily_min_var, color='tab:olive', label=\"Tangent Portfolio\", linewidth =2.0)\n",
    "plt.plot(x, Cumulative_returns_daily_min_vol, color='tab:gray', label=\"Minimum Volatility\", linewidth =2.0)\n",
    "plt.plot(x, Cumulative_returns_daily_risk, color='tab:green', label=\"Risk Parity\", linewidth =2.0)\n",
    "plt.plot(x, Cumulative_returns_daily_equal, color='tab:red', label=\"Equal Weight\", linewidth =2.0)\n",
    "\n",
    "a2c = Cumulative_returns_daily_drl_a2c[np.argmax(Cumulative_returns_daily_drl_a2c[:,-1])]\n",
    "plt.plot(x, a2c, color='tab:brown', label='A2C', linewidth =2.0)\n",
    "ppo = Cumulative_returns_daily_drl_ppo[np.argmax(Cumulative_returns_daily_drl_ppo[:,-1])]\n",
    "plt.plot(x, ppo, color='tab:purple', label='PPO', linewidth =2.0)\n",
    "ddpg = Cumulative_returns_daily_drl_ddpg[np.argmax(Cumulative_returns_daily_drl_ddpg[:,-1])]\n",
    "plt.plot(x, ddpg, color='tab:pink', label='DDPG', linewidth =2.0)\n",
    "sac = Cumulative_returns_daily_drl_sac[np.argmax(Cumulative_returns_daily_drl_sac[:,-1])]\n",
    "plt.plot(x, sac, color='tab:orange', label='SAC', linewidth =2.0)\n",
    "td3 = Cumulative_returns_daily_drl_td3[np.argmax(Cumulative_returns_daily_drl_td3[:,-1])]\n",
    "plt.plot(x, td3, color='tab:blue', label='TD3', linewidth =2.0)\n",
    "\n",
    "plt.axhline(1, color='black', linestyle='--', linewidth =2.0)\n",
    "plt.margins(x=0)\n",
    "plt.ylabel(\"Cumulative Returns\")\n",
    "plt.xlabel(\"Time (Years-Months)\")\n",
    "plt.legend()\n",
    "plt.savefig(str(rebalance_period)+'_cumulative_returns_max0.png',bbox_inches='tight')"
   ]
  },
  {
   "cell_type": "code",
   "execution_count": null,
   "id": "0e0f89da-1faa-4ab3-8d74-9d60c1486173",
   "metadata": {
    "id": "0e0f89da-1faa-4ab3-8d74-9d60c1486173"
   },
   "outputs": [],
   "source": [
    "x = Cumulative_returns_daily_equal.index.values\n",
    "\n",
    "plt.plot(x, Cumulative_returns_daily_min_var, color='tab:olive', label=\"Tangent Portfolio\", linewidth =2.0)\n",
    "plt.plot(x, Cumulative_returns_daily_min_vol, color='tab:gray', label=\"Minimum Volatility\", linewidth =2.0)\n",
    "plt.plot(x, Cumulative_returns_daily_risk, color='tab:green', label=\"Risk Parity\", linewidth =2.0)\n",
    "plt.plot(x, Cumulative_returns_daily_equal, color='tab:red', label=\"Equal Weight\", linewidth =2.0)\n",
    "\n",
    "a2c = Cumulative_returns_daily_drl_a2c[np.argmin(Cumulative_returns_daily_drl_a2c[:,-1])]\n",
    "plt.plot(x, a2c, color='tab:brown', label='A2C', linewidth =2.0)\n",
    "ppo = Cumulative_returns_daily_drl_ppo[np.argmin(Cumulative_returns_daily_drl_ppo[:,-1])]\n",
    "plt.plot(x, ppo, color='tab:purple', label='PPO', linewidth =2.0)\n",
    "ddpg = Cumulative_returns_daily_drl_ddpg[np.argmin(Cumulative_returns_daily_drl_ddpg[:,-1])]\n",
    "plt.plot(x, ddpg, color='tab:pink', label='DDPG', linewidth =2.0)\n",
    "sac = Cumulative_returns_daily_drl_sac[np.argmin(Cumulative_returns_daily_drl_sac[:,-1])]\n",
    "plt.plot(x, sac, color='tab:orange', label='SAC', linewidth =2.0)\n",
    "td3 = Cumulative_returns_daily_drl_td3[np.argmin(Cumulative_returns_daily_drl_td3[:,-1])]\n",
    "plt.plot(x, td3, color='tab:blue', label='TD3', linewidth =2.0)\n",
    "\n",
    "plt.axhline(1, color='black', linestyle='--', linewidth =2.0)\n",
    "plt.margins(x=0)\n",
    "plt.ylabel(\"Cumulative Returns\")\n",
    "plt.xlabel(\"Time (Years-Months)\")\n",
    "plt.legend()\n",
    "plt.savefig(str(rebalance_period)+'_cumulative_returns_min0.png',bbox_inches='tight')"
   ]
  },
  {
   "cell_type": "code",
   "execution_count": null,
   "id": "56cc650b-1728-4611-aff1-d2e182f99309",
   "metadata": {
    "id": "56cc650b-1728-4611-aff1-d2e182f99309"
   },
   "outputs": [],
   "source": [
    "portfolio_weights_ppo_ = portfolio_weights_ppo[np.argmax(Cumulative_returns_daily_drl_ppo[:,-1])]\n",
    "return_stocks_ppo = np.sum(return_stocks.multiply(portfolio_weights_ppo_),axis=1)\n",
    "\n",
    "portfolio_weights_a2c_ = portfolio_weights_a2c[np.argmax(Cumulative_returns_daily_drl_a2c[:,-1])]\n",
    "return_stocks_a2c = np.sum(return_stocks.multiply(portfolio_weights_a2c_),axis=1)\n",
    "\n",
    "portfolio_weights_ddpg_ = portfolio_weights_ddpg[np.argmax(Cumulative_returns_daily_drl_ddpg[:,-1])]\n",
    "return_stocks_ddpg = np.sum(return_stocks.multiply(portfolio_weights_ddpg_),axis=1)\n",
    "\n",
    "portfolio_weights_sac_ = portfolio_weights_sac[np.argmax(Cumulative_returns_daily_drl_sac[:,-1])]\n",
    "return_stocks_sac = np.sum(return_stocks.multiply(portfolio_weights_sac_),axis=1)\n",
    "\n",
    "portfolio_weights_td3_ = portfolio_weights_td3[np.argmax(Cumulative_returns_daily_drl_td3[:,-1])]\n",
    "return_stocks_td3 = np.sum(return_stocks.multiply(portfolio_weights_td3_),axis=1)"
   ]
  },
  {
   "cell_type": "code",
   "execution_count": null,
   "id": "a7efdcec-bbc0-4a5b-9576-af4743a784ea",
   "metadata": {
    "id": "a7efdcec-bbc0-4a5b-9576-af4743a784ea"
   },
   "outputs": [],
   "source": [
    "portfolio_weights_ppo_ = portfolio_weights_ppo[np.argmin(Cumulative_returns_daily_drl_ppo[:,-1])]\n",
    "return_stocks_ppo = np.sum(return_stocks.multiply(portfolio_weights_ppo_),axis=1)\n",
    "\n",
    "portfolio_weights_a2c_ = portfolio_weights_a2c[np.argmin(Cumulative_returns_daily_drl_a2c[:,-1])]\n",
    "return_stocks_a2c = np.sum(return_stocks.multiply(portfolio_weights_a2c_),axis=1)\n",
    "\n",
    "portfolio_weights_ddpg_ = portfolio_weights_ddpg[np.argmin(Cumulative_returns_daily_drl_ddpg[:,-1])]\n",
    "return_stocks_ddpg = np.sum(return_stocks.multiply(portfolio_weights_ddpg_),axis=1)\n",
    "\n",
    "portfolio_weights_sac_ = portfolio_weights_sac[np.argmin(Cumulative_returns_daily_drl_sac[:,-1])]\n",
    "return_stocks_sac = np.sum(return_stocks.multiply(portfolio_weights_sac_),axis=1)\n",
    "\n",
    "portfolio_weights_td3_ = portfolio_weights_td3[np.argmin(Cumulative_returns_daily_drl_td3[:,-1])]\n",
    "return_stocks_td3 = np.sum(return_stocks.multiply(portfolio_weights_td3_),axis=1)"
   ]
  },
  {
   "cell_type": "code",
   "execution_count": null,
   "id": "4813b0f4-f44a-480f-9c2c-39c5b2e234b8",
   "metadata": {
    "id": "4813b0f4-f44a-480f-9c2c-39c5b2e234b8"
   },
   "outputs": [],
   "source": [
    "return_stocks_ppo\n",
    "return_stocks_a2c\n",
    "return_stocks_ddpg\n",
    "return_stocks_sac\n",
    "return_stocks_td3\n",
    "return_stocks_min_var\n",
    "return_stocks_min_vol\n",
    "return_stocks_risk\n",
    "return_stocks_equal\n",
    "print(\"\")"
   ]
  },
  {
   "cell_type": "markdown",
   "id": "46cfb28a-f709-4b23-86f3-dc161ed1fd51",
   "metadata": {
    "id": "46cfb28a-f709-4b23-86f3-dc161ed1fd51"
   },
   "source": [
    "## Other statistics"
   ]
  },
  {
   "cell_type": "code",
   "execution_count": null,
   "id": "BVKlJRLPoYKH",
   "metadata": {
    "colab": {
     "base_uri": "https://localhost:8080/"
    },
    "id": "BVKlJRLPoYKH",
    "outputId": "bff4b7b7-82fd-4233-d160-d4a251a5280c"
   },
   "outputs": [],
   "source": [
    "! pip install pyfolio"
   ]
  },
  {
   "cell_type": "code",
   "execution_count": null,
   "id": "fd8a46ae-c0e8-4fa6-86d0-5980a7fe2d9a",
   "metadata": {
    "colab": {
     "base_uri": "https://localhost:8080/"
    },
    "id": "fd8a46ae-c0e8-4fa6-86d0-5980a7fe2d9a",
    "outputId": "9f42c1d4-eab7-4655-fa3f-e01f267e4b01"
   },
   "outputs": [],
   "source": [
    "import pyfolio"
   ]
  },
  {
   "cell_type": "code",
   "execution_count": null,
   "id": "fdb7b713-0e4a-4e7e-8042-8e81965f253b",
   "metadata": {
    "colab": {
     "base_uri": "https://localhost:8080/",
     "height": 876
    },
    "id": "fdb7b713-0e4a-4e7e-8042-8e81965f253b",
    "outputId": "81ebf88a-2a4f-4a03-ad29-bbe471a5368e"
   },
   "outputs": [],
   "source": [
    "with pyfolio.plotting.plotting_context(font_scale=1.1):\n",
    "    pyfolio.create_full_tear_sheet(returns = return_stocks_ppo, set_context=False)"
   ]
  },
  {
   "cell_type": "code",
   "execution_count": null,
   "id": "21a0e0d9-9f1a-463e-89d1-8cde55b59fd0",
   "metadata": {
    "id": "21a0e0d9-9f1a-463e-89d1-8cde55b59fd0"
   },
   "outputs": [],
   "source": []
  },
  {
   "cell_type": "code",
   "execution_count": null,
   "id": "ed914318",
   "metadata": {},
   "outputs": [],
   "source": []
  },
  {
   "cell_type": "code",
   "execution_count": null,
   "id": "f25d0951",
   "metadata": {},
   "outputs": [],
   "source": []
  },
  {
   "cell_type": "code",
   "execution_count": null,
   "id": "e056375c",
   "metadata": {},
   "outputs": [],
   "source": []
  },
  {
   "cell_type": "code",
   "execution_count": null,
   "id": "931f27fe",
   "metadata": {},
   "outputs": [],
   "source": []
  },
  {
   "cell_type": "code",
   "execution_count": null,
   "id": "dfaeca02",
   "metadata": {},
   "outputs": [],
   "source": []
  },
  {
   "cell_type": "code",
   "execution_count": null,
   "id": "190acf5a",
   "metadata": {},
   "outputs": [],
   "source": []
  },
  {
   "cell_type": "code",
   "execution_count": null,
   "id": "01130cb9",
   "metadata": {},
   "outputs": [],
   "source": []
  },
  {
   "cell_type": "code",
   "execution_count": null,
   "id": "4fefbbcc",
   "metadata": {},
   "outputs": [],
   "source": []
  },
  {
   "cell_type": "code",
   "execution_count": null,
   "id": "606dae5c",
   "metadata": {},
   "outputs": [],
   "source": []
  },
  {
   "cell_type": "code",
   "execution_count": null,
   "id": "a1f231f0",
   "metadata": {},
   "outputs": [],
   "source": []
  },
  {
   "cell_type": "code",
   "execution_count": null,
   "id": "b855eca0",
   "metadata": {},
   "outputs": [],
   "source": []
  },
  {
   "cell_type": "code",
   "execution_count": null,
   "id": "1e87efa1",
   "metadata": {},
   "outputs": [],
   "source": []
  },
  {
   "cell_type": "code",
   "execution_count": null,
   "id": "9bdd66e3",
   "metadata": {},
   "outputs": [],
   "source": []
  },
  {
   "cell_type": "code",
   "execution_count": null,
   "id": "ac10f106",
   "metadata": {},
   "outputs": [],
   "source": []
  },
  {
   "cell_type": "code",
   "execution_count": null,
   "id": "720d7568",
   "metadata": {},
   "outputs": [],
   "source": []
  },
  {
   "cell_type": "code",
   "execution_count": null,
   "id": "4df3c591",
   "metadata": {},
   "outputs": [],
   "source": []
  },
  {
   "cell_type": "code",
   "execution_count": null,
   "id": "021bdcc6",
   "metadata": {},
   "outputs": [],
   "source": []
  },
  {
   "cell_type": "code",
   "execution_count": null,
   "id": "3b377967",
   "metadata": {},
   "outputs": [],
   "source": []
  },
  {
   "cell_type": "code",
   "execution_count": null,
   "id": "65c30dcf",
   "metadata": {},
   "outputs": [],
   "source": []
  },
  {
   "cell_type": "code",
   "execution_count": null,
   "id": "eb1afe6a",
   "metadata": {},
   "outputs": [],
   "source": [
    "! shutdown -s -t 60"
   ]
  },
  {
   "cell_type": "code",
   "execution_count": null,
   "id": "66717cb7",
   "metadata": {},
   "outputs": [],
   "source": []
  }
 ],
 "metadata": {
  "colab": {
   "collapsed_sections": [
    "834ac196-1165-41df-84f2-bf369b684640",
    "75476b10-3025-417d-b9a4-69f494081e21",
    "a85938db-1064-48c8-9943-35cb903bc2f5",
    "abed8f9e-b298-4a27-b987-0a28495ade13",
    "126a1679-0caa-43da-8217-4f133a3b4c78",
    "8244ab1e-7505-456a-8c32-42ccae3a08f6",
    "e5e766c4-3034-4887-b9ca-8138acd1f397",
    "2a899912-0b62-40db-8d0f-6b7d79f28a75",
    "2811ebf0-6648-4c30-b4b3-ae653ea9573f"
   ],
   "provenance": [],
   "toc_visible": true
  },
  "gpuClass": "standard",
  "kernelspec": {
   "display_name": "Python 3 (ipykernel)",
   "language": "python",
   "name": "python3"
  },
  "language_info": {
   "codemirror_mode": {
    "name": "ipython",
    "version": 3
   },
   "file_extension": ".py",
   "mimetype": "text/x-python",
   "name": "python",
   "nbconvert_exporter": "python",
   "pygments_lexer": "ipython3",
   "version": "3.9.12"
  },
  "vscode": {
   "interpreter": {
    "hash": "49cb93f377a7abe7414b7b0f21fb3017538004a126cf690fb524202736b7fb92"
   }
  }
 },
 "nbformat": 4,
 "nbformat_minor": 5
}
