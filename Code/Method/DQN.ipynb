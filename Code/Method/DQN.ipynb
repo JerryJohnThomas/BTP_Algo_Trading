{
 "cells": [
  {
   "cell_type": "code",
   "execution_count": 4,
   "id": "2b3aaf33",
   "metadata": {},
   "outputs": [
    {
     "name": "stdout",
     "output_type": "stream",
     "text": [
      "Requirement already satisfied: pyvirtualdisplay in d:\\anaconda3\\lib\\site-packages (3.0)\n",
      "Collecting tf-agents[reverb]\n"
     ]
    },
    {
     "name": "stderr",
     "output_type": "stream",
     "text": [
      "WARNING: tf-agents 0.5.0 does not provide the extra 'reverb'\n",
      "WARNING: Error parsing requirements for typing-extensions: [Errno 2] No such file or directory: 'd:\\\\anaconda3\\\\lib\\\\site-packages\\\\typing_extensions-4.1.1.dist-info\\\\METADATA'\n"
     ]
    },
    {
     "name": "stdout",
     "output_type": "stream",
     "text": [
      "  Downloading tf_agents-0.15.0-py3-none-any.whl (1.4 MB)\n",
      "Requirement already satisfied: absl-py>=0.6.1 in d:\\anaconda3\\lib\\site-packages (from tf-agents[reverb]) (1.1.0)\n",
      "Requirement already satisfied: typing-extensions>=3.7.4.3 in d:\\anaconda3\\lib\\site-packages (from tf-agents[reverb]) (4.1.1)\n",
      "Collecting pygame==2.1.0\n",
      "  Downloading pygame-2.1.0-cp39-cp39-win_amd64.whl (4.8 MB)\n",
      "Requirement already satisfied: gym<=0.23.0,>=0.17.0 in d:\\anaconda3\\lib\\site-packages (from tf-agents[reverb]) (0.21.0)\n",
      "Requirement already satisfied: protobuf>=3.11.3 in d:\\anaconda3\\lib\\site-packages (from tf-agents[reverb]) (3.19.1)\n",
      "Requirement already satisfied: six>=1.10.0 in c:\\users\\jerry john thomas\\appdata\\roaming\\python\\python39\\site-packages (from tf-agents[reverb]) (1.16.0)\n",
      "Requirement already satisfied: pillow in d:\\anaconda3\\lib\\site-packages (from tf-agents[reverb]) (9.0.1)\n",
      "Requirement already satisfied: wrapt>=1.11.1 in d:\\anaconda3\\lib\\site-packages (from tf-agents[reverb]) (1.12.1)\n",
      "Requirement already satisfied: numpy>=1.13.3 in c:\\users\\jerry john thomas\\appdata\\roaming\\python\\python39\\site-packages (from tf-agents[reverb]) (1.23.1)\n",
      "Collecting gin-config>=0.4.0\n",
      "  Using cached gin_config-0.5.0-py3-none-any.whl (61 kB)\n",
      "Requirement already satisfied: cloudpickle>=1.3 in c:\\users\\jerry john thomas\\appdata\\roaming\\python\\python39\\site-packages (from tf-agents[reverb]) (2.0.0)\n",
      "Collecting tensorflow-probability>=0.18.0\n",
      "  Downloading tensorflow_probability-0.19.0-py2.py3-none-any.whl (6.7 MB)\n",
      "Collecting tf-agents[reverb]\n",
      "  Downloading tf_agents-0.14.0-py3-none-any.whl (1.4 MB)\n",
      "Collecting tensorflow-probability==0.17.0\n",
      "  Downloading tensorflow_probability-0.17.0-py2.py3-none-any.whl (6.5 MB)\n",
      "Collecting tensorflow~=2.10.0\n",
      "  Downloading tensorflow-2.10.1-cp39-cp39-win_amd64.whl (455.9 MB)\n",
      "Collecting tf-agents[reverb]\n",
      "  Downloading tf_agents-0.13.0-py3-none-any.whl (1.3 MB)\n",
      "  Downloading tf_agents-0.12.1-py3-none-any.whl (1.3 MB)\n",
      "  Downloading tf_agents-0.12.0-py3-none-any.whl (1.3 MB)\n",
      "  Downloading tf_agents-0.11.0-py3-none-any.whl (1.3 MB)\n",
      "Collecting tensorflow~=2.7.0\n",
      "  Downloading tensorflow-2.7.4-cp39-cp39-win_amd64.whl (436.8 MB)\n",
      "Collecting tf-agents[reverb]\n",
      "  Downloading tf_agents-0.10.0-py3-none-any.whl (1.3 MB)\n",
      "Collecting tensorflow~=2.6.0\n",
      "  Downloading tensorflow-2.6.5-cp39-cp39-win_amd64.whl (429.2 MB)\n",
      "Collecting tf-agents[reverb]\n",
      "  Downloading tf_agents-0.9.0-py3-none-any.whl (1.3 MB)\n",
      "  Downloading tf_agents-0.8.0-py3-none-any.whl (1.2 MB)\n",
      "Collecting tensorflow-probability==0.12.2\n",
      "  Downloading tensorflow_probability-0.12.2-py2.py3-none-any.whl (4.8 MB)\n",
      "Collecting tensorflow~=2.5.0\n",
      "  Downloading tensorflow-2.5.3-cp39-cp39-win_amd64.whl (428.3 MB)\n",
      "Collecting tf-agents[reverb]\n",
      "  Downloading tf_agents-0.7.1-py3-none-any.whl (1.2 MB)\n",
      "Requirement already satisfied: tensorflow>=2.4.0 in d:\\anaconda3\\lib\\site-packages (from tf-agents[reverb]) (2.9.1)\n",
      "  Downloading tf_agents-0.6.0-py3-none-any.whl (1.1 MB)\n",
      "Collecting cloudpickle==1.3\n",
      "  Downloading cloudpickle-1.3.0-py2.py3-none-any.whl (26 kB)\n",
      "Collecting tf-agents[reverb]\n",
      "  Downloading tf_agents-0.5.0-py3-none-any.whl (933 kB)\n",
      "Collecting gin-config==0.1.3\n",
      "  Downloading gin_config-0.1.3-py3-none-any.whl (43 kB)\n",
      "Collecting dm-tree\n",
      "  Downloading dm_tree-0.1.8-cp39-cp39-win_amd64.whl (101 kB)\n",
      "Requirement already satisfied: decorator in c:\\users\\jerry john thomas\\appdata\\roaming\\python\\python39\\site-packages (from tensorflow-probability>=0.18.0->tf-agents[reverb]) (5.0.9)\n",
      "Requirement already satisfied: gast>=0.3.2 in d:\\anaconda3\\lib\\site-packages (from tensorflow-probability>=0.18.0->tf-agents[reverb]) (0.4.0)\n",
      "Installing collected packages: dm-tree, tensorflow-probability, gin-config, tf-agents\n",
      "Successfully installed dm-tree-0.1.8 gin-config-0.1.3 tensorflow-probability-0.19.0 tf-agents-0.5.0\n"
     ]
    }
   ],
   "source": [
    "!pip install pyvirtualdisplay\n",
    "!pip install tf-agents[reverb]"
   ]
  },
  {
   "cell_type": "code",
   "execution_count": 3,
   "id": "3afead30",
   "metadata": {},
   "outputs": [
    {
     "ename": "ModuleNotFoundError",
     "evalue": "No module named 'reverb'",
     "output_type": "error",
     "traceback": [
      "\u001b[1;31m---------------------------------------------------------------------------\u001b[0m",
      "\u001b[1;31mModuleNotFoundError\u001b[0m                       Traceback (most recent call last)",
      "\u001b[1;32mC:\\Users\\JERRYJ~1\\AppData\\Local\\Temp/ipykernel_20908/4234365312.py\u001b[0m in \u001b[0;36m<module>\u001b[1;34m\u001b[0m\n\u001b[0;32m      9\u001b[0m \u001b[1;32mimport\u001b[0m \u001b[0mPIL\u001b[0m\u001b[1;33m.\u001b[0m\u001b[0mImage\u001b[0m\u001b[1;33m\u001b[0m\u001b[1;33m\u001b[0m\u001b[0m\n\u001b[0;32m     10\u001b[0m \u001b[1;32mimport\u001b[0m \u001b[0mpyvirtualdisplay\u001b[0m\u001b[1;33m\u001b[0m\u001b[1;33m\u001b[0m\u001b[0m\n\u001b[1;32m---> 11\u001b[1;33m \u001b[1;32mimport\u001b[0m \u001b[0mreverb\u001b[0m\u001b[1;33m\u001b[0m\u001b[1;33m\u001b[0m\u001b[0m\n\u001b[0m\u001b[0;32m     12\u001b[0m \u001b[1;33m\u001b[0m\u001b[0m\n\u001b[0;32m     13\u001b[0m \u001b[1;32mimport\u001b[0m \u001b[0mtensorflow\u001b[0m \u001b[1;32mas\u001b[0m \u001b[0mtf\u001b[0m\u001b[1;33m\u001b[0m\u001b[1;33m\u001b[0m\u001b[0m\n",
      "\u001b[1;31mModuleNotFoundError\u001b[0m: No module named 'reverb'"
     ]
    }
   ],
   "source": [
    "from __future__ import absolute_import, division, print_function\n",
    "\n",
    "import base64\n",
    "import imageio\n",
    "import IPython\n",
    "import matplotlib\n",
    "import matplotlib.pyplot as plt\n",
    "import numpy as np\n",
    "import PIL.Image\n",
    "import pyvirtualdisplay\n",
    "import reverb\n",
    "\n",
    "import tensorflow as tf\n",
    "\n",
    "from tf_agents.agents.dqn import dqn_agent\n",
    "from tf_agents.drivers import py_driver\n",
    "from tf_agents.environments import suite_gym\n",
    "from tf_agents.environments import tf_py_environment\n",
    "from tf_agents.eval import metric_utils\n",
    "from tf_agents.metrics import tf_metrics\n",
    "from tf_agents.networks import sequential\n",
    "from tf_agents.policies import py_tf_eager_policy\n",
    "from tf_agents.policies import random_tf_policy\n",
    "from tf_agents.replay_buffers import reverb_replay_buffer\n",
    "from tf_agents.replay_buffers import reverb_utils\n",
    "from tf_agents.trajectories import trajectory\n",
    "from tf_agents.specs import tensor_spec\n",
    "from tf_agents.utils import common"
   ]
  },
  {
   "cell_type": "code",
   "execution_count": null,
   "id": "90d8609e",
   "metadata": {},
   "outputs": [],
   "source": [
    "# Set up a virtual display for rendering OpenAI gym environments.\n",
    "display = pyvirtualdisplay.Display(visible=0, size=(1400, 900)).start()"
   ]
  },
  {
   "cell_type": "code",
   "execution_count": null,
   "id": "44676bb3",
   "metadata": {},
   "outputs": [],
   "source": [
    "tf.version.VERSION\n",
    "     \n"
   ]
  }
 ],
 "metadata": {
  "kernelspec": {
   "display_name": "Python 3 (ipykernel)",
   "language": "python",
   "name": "python3"
  },
  "language_info": {
   "codemirror_mode": {
    "name": "ipython",
    "version": 3
   },
   "file_extension": ".py",
   "mimetype": "text/x-python",
   "name": "python",
   "nbconvert_exporter": "python",
   "pygments_lexer": "ipython3",
   "version": "3.9.12"
  }
 },
 "nbformat": 4,
 "nbformat_minor": 5
}
